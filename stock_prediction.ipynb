{
  "nbformat": 4,
  "nbformat_minor": 0,
  "metadata": {
    "colab": {
      "provenance": []
    },
    "kernelspec": {
      "name": "python3",
      "display_name": "Python 3"
    },
    "language_info": {
      "name": "python"
    }
  },
  "cells": [
    {
      "cell_type": "markdown",
      "source": [
        "\n",
        "# **GOOGLE Stock Price Prediction**\n",
        "\n",
        "## Linear Regression Model"
      ],
      "metadata": {
        "id": "NpbPcKpGhUjL"
      }
    },
    {
      "cell_type": "markdown",
      "source": [
        "**IMPORTING LIBRARIES**"
      ],
      "metadata": {
        "id": "LVH1sveBhmlI"
      }
    },
    {
      "cell_type": "code",
      "execution_count": 6,
      "metadata": {
        "id": "1mxsXuV-hM63"
      },
      "outputs": [],
      "source": [
        "#Importing the necessary python libraries\n",
        "import numpy as np\n",
        "import pandas as pd\n",
        "import matplotlib.pyplot as plt\n",
        "%matplotlib inline\n",
        "import seaborn as sns\n",
        "import datetime\n",
        "# For preprocessing of data\n",
        "from sklearn.preprocessing import MinMaxScaler,StandardScaler\n",
        "# For building the Regression Model\n",
        "from sklearn.model_selection import train_test_split\n",
        "from sklearn.linear_model import LinearRegression\n",
        "# For Model Evaluation\n",
        "from sklearn.metrics import r2_score,mean_absolute_error,mean_squared_error"
      ]
    },
    {
      "cell_type": "markdown",
      "source": [
        "**COLLECTING AND LOADING DATA**"
      ],
      "metadata": {
        "id": "lIFrZzcZiqyw"
      }
    },
    {
      "cell_type": "code",
      "source": [
        "# Importing the csv file\n",
        "df = pd.read_csv('GOOGL.csv')"
      ],
      "metadata": {
        "id": "PxyVJKH1hTOT"
      },
      "execution_count": 7,
      "outputs": []
    },
    {
      "cell_type": "markdown",
      "source": [
        "**UNDERSTANDING DATA**"
      ],
      "metadata": {
        "id": "f9gjY73UnpvP"
      }
    },
    {
      "cell_type": "code",
      "source": [
        "# Viewing the file headers to derive a primary meaning of the data\n",
        "df.head()"
      ],
      "metadata": {
        "colab": {
          "base_uri": "https://localhost:8080/",
          "height": 359
        },
        "id": "QuV1aKRhivXW",
        "outputId": "5e4732f4-f0d2-4822-c92b-fd100fc243ce"
      },
      "execution_count": 8,
      "outputs": [
        {
          "output_type": "execute_result",
          "data": {
            "text/plain": [
              "         Date    Open    High     Low  Close(t)    Volume       SD20  \\\n",
              "0  2007-10-17  315.54  317.32  311.11    317.06  12048900  13.498014   \n",
              "1  2007-10-18  318.02  321.01  314.56    320.13  24553800  13.603549   \n",
              "2  2007-10-19  327.61  329.57  321.94    322.68  31546400  13.859332   \n",
              "3  2007-10-22  319.65  327.83  318.46    325.70  13315400  14.319036   \n",
              "4  2007-10-23  330.96  339.14  330.33    338.22  13573800  15.652638   \n",
              "\n",
              "   Upper_Band  Lower_Band  S_Close(t-1)  ...  QQQ_MA10  QQQ_MA20  QQQ_MA50  \\\n",
              "0  323.694527  269.702473        308.31  ...    47.102   46.2860   44.1214   \n",
              "1  326.077599  271.663401        317.06  ...    47.280   46.4535   44.2096   \n",
              "2  328.706664  273.269336        320.13  ...    47.246   46.5460   44.2940   \n",
              "3  331.696571  274.420429        322.68  ...    47.239   46.6560   44.3972   \n",
              "4  337.035777  274.425223        325.70  ...    47.310   46.7945   44.5146   \n",
              "\n",
              "   SnP_Close  SnP(t-1))  SnP(t-5)  DJIA_Close  DJIA(t-1))  DJIA(t-5)  \\\n",
              "0    1541.24    1538.53   1562.47    13892.54    13912.94   14078.69   \n",
              "1    1540.08    1541.24   1554.41    13888.96    13892.54   14015.12   \n",
              "2    1500.63    1540.08   1561.80    13522.02    13888.96   14093.08   \n",
              "3    1506.33    1500.63   1548.71    13566.97    13522.02   13984.80   \n",
              "4    1519.59    1506.33   1538.53    13676.23    13566.97   13912.94   \n",
              "\n",
              "   Close_forcast  \n",
              "0         320.13  \n",
              "1         322.68  \n",
              "2         325.70  \n",
              "3         338.22  \n",
              "4         338.25  \n",
              "\n",
              "[5 rows x 64 columns]"
            ],
            "text/html": [
              "\n",
              "  <div id=\"df-f5469fd4-fa1f-4fa8-a6a0-5dc8d95475c9\" class=\"colab-df-container\">\n",
              "    <div>\n",
              "<style scoped>\n",
              "    .dataframe tbody tr th:only-of-type {\n",
              "        vertical-align: middle;\n",
              "    }\n",
              "\n",
              "    .dataframe tbody tr th {\n",
              "        vertical-align: top;\n",
              "    }\n",
              "\n",
              "    .dataframe thead th {\n",
              "        text-align: right;\n",
              "    }\n",
              "</style>\n",
              "<table border=\"1\" class=\"dataframe\">\n",
              "  <thead>\n",
              "    <tr style=\"text-align: right;\">\n",
              "      <th></th>\n",
              "      <th>Date</th>\n",
              "      <th>Open</th>\n",
              "      <th>High</th>\n",
              "      <th>Low</th>\n",
              "      <th>Close(t)</th>\n",
              "      <th>Volume</th>\n",
              "      <th>SD20</th>\n",
              "      <th>Upper_Band</th>\n",
              "      <th>Lower_Band</th>\n",
              "      <th>S_Close(t-1)</th>\n",
              "      <th>...</th>\n",
              "      <th>QQQ_MA10</th>\n",
              "      <th>QQQ_MA20</th>\n",
              "      <th>QQQ_MA50</th>\n",
              "      <th>SnP_Close</th>\n",
              "      <th>SnP(t-1))</th>\n",
              "      <th>SnP(t-5)</th>\n",
              "      <th>DJIA_Close</th>\n",
              "      <th>DJIA(t-1))</th>\n",
              "      <th>DJIA(t-5)</th>\n",
              "      <th>Close_forcast</th>\n",
              "    </tr>\n",
              "  </thead>\n",
              "  <tbody>\n",
              "    <tr>\n",
              "      <th>0</th>\n",
              "      <td>2007-10-17</td>\n",
              "      <td>315.54</td>\n",
              "      <td>317.32</td>\n",
              "      <td>311.11</td>\n",
              "      <td>317.06</td>\n",
              "      <td>12048900</td>\n",
              "      <td>13.498014</td>\n",
              "      <td>323.694527</td>\n",
              "      <td>269.702473</td>\n",
              "      <td>308.31</td>\n",
              "      <td>...</td>\n",
              "      <td>47.102</td>\n",
              "      <td>46.2860</td>\n",
              "      <td>44.1214</td>\n",
              "      <td>1541.24</td>\n",
              "      <td>1538.53</td>\n",
              "      <td>1562.47</td>\n",
              "      <td>13892.54</td>\n",
              "      <td>13912.94</td>\n",
              "      <td>14078.69</td>\n",
              "      <td>320.13</td>\n",
              "    </tr>\n",
              "    <tr>\n",
              "      <th>1</th>\n",
              "      <td>2007-10-18</td>\n",
              "      <td>318.02</td>\n",
              "      <td>321.01</td>\n",
              "      <td>314.56</td>\n",
              "      <td>320.13</td>\n",
              "      <td>24553800</td>\n",
              "      <td>13.603549</td>\n",
              "      <td>326.077599</td>\n",
              "      <td>271.663401</td>\n",
              "      <td>317.06</td>\n",
              "      <td>...</td>\n",
              "      <td>47.280</td>\n",
              "      <td>46.4535</td>\n",
              "      <td>44.2096</td>\n",
              "      <td>1540.08</td>\n",
              "      <td>1541.24</td>\n",
              "      <td>1554.41</td>\n",
              "      <td>13888.96</td>\n",
              "      <td>13892.54</td>\n",
              "      <td>14015.12</td>\n",
              "      <td>322.68</td>\n",
              "    </tr>\n",
              "    <tr>\n",
              "      <th>2</th>\n",
              "      <td>2007-10-19</td>\n",
              "      <td>327.61</td>\n",
              "      <td>329.57</td>\n",
              "      <td>321.94</td>\n",
              "      <td>322.68</td>\n",
              "      <td>31546400</td>\n",
              "      <td>13.859332</td>\n",
              "      <td>328.706664</td>\n",
              "      <td>273.269336</td>\n",
              "      <td>320.13</td>\n",
              "      <td>...</td>\n",
              "      <td>47.246</td>\n",
              "      <td>46.5460</td>\n",
              "      <td>44.2940</td>\n",
              "      <td>1500.63</td>\n",
              "      <td>1540.08</td>\n",
              "      <td>1561.80</td>\n",
              "      <td>13522.02</td>\n",
              "      <td>13888.96</td>\n",
              "      <td>14093.08</td>\n",
              "      <td>325.70</td>\n",
              "    </tr>\n",
              "    <tr>\n",
              "      <th>3</th>\n",
              "      <td>2007-10-22</td>\n",
              "      <td>319.65</td>\n",
              "      <td>327.83</td>\n",
              "      <td>318.46</td>\n",
              "      <td>325.70</td>\n",
              "      <td>13315400</td>\n",
              "      <td>14.319036</td>\n",
              "      <td>331.696571</td>\n",
              "      <td>274.420429</td>\n",
              "      <td>322.68</td>\n",
              "      <td>...</td>\n",
              "      <td>47.239</td>\n",
              "      <td>46.6560</td>\n",
              "      <td>44.3972</td>\n",
              "      <td>1506.33</td>\n",
              "      <td>1500.63</td>\n",
              "      <td>1548.71</td>\n",
              "      <td>13566.97</td>\n",
              "      <td>13522.02</td>\n",
              "      <td>13984.80</td>\n",
              "      <td>338.22</td>\n",
              "    </tr>\n",
              "    <tr>\n",
              "      <th>4</th>\n",
              "      <td>2007-10-23</td>\n",
              "      <td>330.96</td>\n",
              "      <td>339.14</td>\n",
              "      <td>330.33</td>\n",
              "      <td>338.22</td>\n",
              "      <td>13573800</td>\n",
              "      <td>15.652638</td>\n",
              "      <td>337.035777</td>\n",
              "      <td>274.425223</td>\n",
              "      <td>325.70</td>\n",
              "      <td>...</td>\n",
              "      <td>47.310</td>\n",
              "      <td>46.7945</td>\n",
              "      <td>44.5146</td>\n",
              "      <td>1519.59</td>\n",
              "      <td>1506.33</td>\n",
              "      <td>1538.53</td>\n",
              "      <td>13676.23</td>\n",
              "      <td>13566.97</td>\n",
              "      <td>13912.94</td>\n",
              "      <td>338.25</td>\n",
              "    </tr>\n",
              "  </tbody>\n",
              "</table>\n",
              "<p>5 rows × 64 columns</p>\n",
              "</div>\n",
              "    <div class=\"colab-df-buttons\">\n",
              "\n",
              "  <div class=\"colab-df-container\">\n",
              "    <button class=\"colab-df-convert\" onclick=\"convertToInteractive('df-f5469fd4-fa1f-4fa8-a6a0-5dc8d95475c9')\"\n",
              "            title=\"Convert this dataframe to an interactive table.\"\n",
              "            style=\"display:none;\">\n",
              "\n",
              "  <svg xmlns=\"http://www.w3.org/2000/svg\" height=\"24px\" viewBox=\"0 -960 960 960\">\n",
              "    <path d=\"M120-120v-720h720v720H120Zm60-500h600v-160H180v160Zm220 220h160v-160H400v160Zm0 220h160v-160H400v160ZM180-400h160v-160H180v160Zm440 0h160v-160H620v160ZM180-180h160v-160H180v160Zm440 0h160v-160H620v160Z\"/>\n",
              "  </svg>\n",
              "    </button>\n",
              "\n",
              "  <style>\n",
              "    .colab-df-container {\n",
              "      display:flex;\n",
              "      gap: 12px;\n",
              "    }\n",
              "\n",
              "    .colab-df-convert {\n",
              "      background-color: #E8F0FE;\n",
              "      border: none;\n",
              "      border-radius: 50%;\n",
              "      cursor: pointer;\n",
              "      display: none;\n",
              "      fill: #1967D2;\n",
              "      height: 32px;\n",
              "      padding: 0 0 0 0;\n",
              "      width: 32px;\n",
              "    }\n",
              "\n",
              "    .colab-df-convert:hover {\n",
              "      background-color: #E2EBFA;\n",
              "      box-shadow: 0px 1px 2px rgba(60, 64, 67, 0.3), 0px 1px 3px 1px rgba(60, 64, 67, 0.15);\n",
              "      fill: #174EA6;\n",
              "    }\n",
              "\n",
              "    .colab-df-buttons div {\n",
              "      margin-bottom: 4px;\n",
              "    }\n",
              "\n",
              "    [theme=dark] .colab-df-convert {\n",
              "      background-color: #3B4455;\n",
              "      fill: #D2E3FC;\n",
              "    }\n",
              "\n",
              "    [theme=dark] .colab-df-convert:hover {\n",
              "      background-color: #434B5C;\n",
              "      box-shadow: 0px 1px 3px 1px rgba(0, 0, 0, 0.15);\n",
              "      filter: drop-shadow(0px 1px 2px rgba(0, 0, 0, 0.3));\n",
              "      fill: #FFFFFF;\n",
              "    }\n",
              "  </style>\n",
              "\n",
              "    <script>\n",
              "      const buttonEl =\n",
              "        document.querySelector('#df-f5469fd4-fa1f-4fa8-a6a0-5dc8d95475c9 button.colab-df-convert');\n",
              "      buttonEl.style.display =\n",
              "        google.colab.kernel.accessAllowed ? 'block' : 'none';\n",
              "\n",
              "      async function convertToInteractive(key) {\n",
              "        const element = document.querySelector('#df-f5469fd4-fa1f-4fa8-a6a0-5dc8d95475c9');\n",
              "        const dataTable =\n",
              "          await google.colab.kernel.invokeFunction('convertToInteractive',\n",
              "                                                    [key], {});\n",
              "        if (!dataTable) return;\n",
              "\n",
              "        const docLinkHtml = 'Like what you see? Visit the ' +\n",
              "          '<a target=\"_blank\" href=https://colab.research.google.com/notebooks/data_table.ipynb>data table notebook</a>'\n",
              "          + ' to learn more about interactive tables.';\n",
              "        element.innerHTML = '';\n",
              "        dataTable['output_type'] = 'display_data';\n",
              "        await google.colab.output.renderOutput(dataTable, element);\n",
              "        const docLink = document.createElement('div');\n",
              "        docLink.innerHTML = docLinkHtml;\n",
              "        element.appendChild(docLink);\n",
              "      }\n",
              "    </script>\n",
              "  </div>\n",
              "\n",
              "\n",
              "<div id=\"df-9b0b8c98-a4a8-4edb-b93f-060ae345817a\">\n",
              "  <button class=\"colab-df-quickchart\" onclick=\"quickchart('df-9b0b8c98-a4a8-4edb-b93f-060ae345817a')\"\n",
              "            title=\"Suggest charts.\"\n",
              "            style=\"display:none;\">\n",
              "\n",
              "<svg xmlns=\"http://www.w3.org/2000/svg\" height=\"24px\"viewBox=\"0 0 24 24\"\n",
              "     width=\"24px\">\n",
              "    <g>\n",
              "        <path d=\"M19 3H5c-1.1 0-2 .9-2 2v14c0 1.1.9 2 2 2h14c1.1 0 2-.9 2-2V5c0-1.1-.9-2-2-2zM9 17H7v-7h2v7zm4 0h-2V7h2v10zm4 0h-2v-4h2v4z\"/>\n",
              "    </g>\n",
              "</svg>\n",
              "  </button>\n",
              "\n",
              "<style>\n",
              "  .colab-df-quickchart {\n",
              "    background-color: #E8F0FE;\n",
              "    border: none;\n",
              "    border-radius: 50%;\n",
              "    cursor: pointer;\n",
              "    display: none;\n",
              "    fill: #1967D2;\n",
              "    height: 32px;\n",
              "    padding: 0 0 0 0;\n",
              "    width: 32px;\n",
              "  }\n",
              "\n",
              "  .colab-df-quickchart:hover {\n",
              "    background-color: #E2EBFA;\n",
              "    box-shadow: 0px 1px 2px rgba(60, 64, 67, 0.3), 0px 1px 3px 1px rgba(60, 64, 67, 0.15);\n",
              "    fill: #174EA6;\n",
              "  }\n",
              "\n",
              "  [theme=dark] .colab-df-quickchart {\n",
              "    background-color: #3B4455;\n",
              "    fill: #D2E3FC;\n",
              "  }\n",
              "\n",
              "  [theme=dark] .colab-df-quickchart:hover {\n",
              "    background-color: #434B5C;\n",
              "    box-shadow: 0px 1px 3px 1px rgba(0, 0, 0, 0.15);\n",
              "    filter: drop-shadow(0px 1px 2px rgba(0, 0, 0, 0.3));\n",
              "    fill: #FFFFFF;\n",
              "  }\n",
              "</style>\n",
              "\n",
              "  <script>\n",
              "    async function quickchart(key) {\n",
              "      const charts = await google.colab.kernel.invokeFunction(\n",
              "          'suggestCharts', [key], {});\n",
              "    }\n",
              "    (() => {\n",
              "      let quickchartButtonEl =\n",
              "        document.querySelector('#df-9b0b8c98-a4a8-4edb-b93f-060ae345817a button');\n",
              "      quickchartButtonEl.style.display =\n",
              "        google.colab.kernel.accessAllowed ? 'block' : 'none';\n",
              "    })();\n",
              "  </script>\n",
              "</div>\n",
              "    </div>\n",
              "  </div>\n"
            ]
          },
          "metadata": {},
          "execution_count": 8
        }
      ]
    },
    {
      "cell_type": "markdown",
      "source": [
        "**EXPLORATORY DATA ANALYSIS**"
      ],
      "metadata": {
        "id": "B100xvoUnrgQ"
      }
    },
    {
      "cell_type": "code",
      "source": [
        "df.shape"
      ],
      "metadata": {
        "colab": {
          "base_uri": "https://localhost:8080/"
        },
        "id": "zdjLPPiPkEDL",
        "outputId": "fd5ab16a-88b0-41ce-c13e-e6a155c4c0e7"
      },
      "execution_count": 9,
      "outputs": [
        {
          "output_type": "execute_result",
          "data": {
            "text/plain": [
              "(3229, 64)"
            ]
          },
          "metadata": {},
          "execution_count": 9
        }
      ]
    },
    {
      "cell_type": "code",
      "source": [
        "df.info()"
      ],
      "metadata": {
        "colab": {
          "base_uri": "https://localhost:8080/"
        },
        "id": "1LztNVA7kGgN",
        "outputId": "4330c903-6b49-48dc-8be2-b16d158555f8"
      },
      "execution_count": 10,
      "outputs": [
        {
          "output_type": "stream",
          "name": "stdout",
          "text": [
            "<class 'pandas.core.frame.DataFrame'>\n",
            "RangeIndex: 3229 entries, 0 to 3228\n",
            "Data columns (total 64 columns):\n",
            " #   Column            Non-Null Count  Dtype  \n",
            "---  ------            --------------  -----  \n",
            " 0   Date              3229 non-null   object \n",
            " 1   Open              3229 non-null   float64\n",
            " 2   High              3229 non-null   float64\n",
            " 3   Low               3229 non-null   float64\n",
            " 4   Close(t)          3229 non-null   float64\n",
            " 5   Volume            3229 non-null   int64  \n",
            " 6   SD20              3229 non-null   float64\n",
            " 7   Upper_Band        3229 non-null   float64\n",
            " 8   Lower_Band        3229 non-null   float64\n",
            " 9   S_Close(t-1)      3229 non-null   float64\n",
            " 10  S_Close(t-2)      3229 non-null   float64\n",
            " 11  S_Close(t-3)      3229 non-null   float64\n",
            " 12  S_Close(t-5)      3229 non-null   float64\n",
            " 13  S_Open(t-1)       3229 non-null   float64\n",
            " 14  MA5               3229 non-null   float64\n",
            " 15  MA10              3229 non-null   float64\n",
            " 16  MA20              3229 non-null   float64\n",
            " 17  MA50              3229 non-null   float64\n",
            " 18  MA200             3229 non-null   float64\n",
            " 19  EMA10             3229 non-null   float64\n",
            " 20  EMA20             3229 non-null   float64\n",
            " 21  EMA50             3229 non-null   float64\n",
            " 22  EMA100            3229 non-null   float64\n",
            " 23  EMA200            3229 non-null   float64\n",
            " 24  MACD              3229 non-null   float64\n",
            " 25  MACD_EMA          3229 non-null   float64\n",
            " 26  ATR               3229 non-null   float64\n",
            " 27  ADX               3229 non-null   float64\n",
            " 28  CCI               3229 non-null   float64\n",
            " 29  ROC               3229 non-null   float64\n",
            " 30  RSI               3229 non-null   float64\n",
            " 31  William%R         3229 non-null   float64\n",
            " 32  SO%K              3229 non-null   float64\n",
            " 33  STD5              3229 non-null   float64\n",
            " 34  ForceIndex1       3229 non-null   float64\n",
            " 35  ForceIndex20      3229 non-null   float64\n",
            " 36  Date_col          3229 non-null   object \n",
            " 37  Day               3229 non-null   int64  \n",
            " 38  DayofWeek         3229 non-null   int64  \n",
            " 39  DayofYear         3229 non-null   int64  \n",
            " 40  Week              3229 non-null   int64  \n",
            " 41  Is_month_end      3229 non-null   int64  \n",
            " 42  Is_month_start    3229 non-null   int64  \n",
            " 43  Is_quarter_end    3229 non-null   int64  \n",
            " 44  Is_quarter_start  3229 non-null   int64  \n",
            " 45  Is_year_end       3229 non-null   int64  \n",
            " 46  Is_year_start     3229 non-null   int64  \n",
            " 47  Is_leap_year      3229 non-null   int64  \n",
            " 48  Year              3229 non-null   int64  \n",
            " 49  Month             3229 non-null   int64  \n",
            " 50  QQQ_Close         3229 non-null   float64\n",
            " 51  QQQ(t-1)          3229 non-null   float64\n",
            " 52  QQQ(t-2)          3229 non-null   float64\n",
            " 53  QQQ(t-5)          3229 non-null   float64\n",
            " 54  QQQ_MA10          3229 non-null   float64\n",
            " 55  QQQ_MA20          3229 non-null   float64\n",
            " 56  QQQ_MA50          3229 non-null   float64\n",
            " 57  SnP_Close         3229 non-null   float64\n",
            " 58  SnP(t-1))         3229 non-null   float64\n",
            " 59  SnP(t-5)          3229 non-null   float64\n",
            " 60  DJIA_Close        3229 non-null   float64\n",
            " 61  DJIA(t-1))        3229 non-null   float64\n",
            " 62  DJIA(t-5)         3229 non-null   float64\n",
            " 63  Close_forcast     3229 non-null   float64\n",
            "dtypes: float64(48), int64(14), object(2)\n",
            "memory usage: 1.6+ MB\n"
          ]
        }
      ]
    },
    {
      "cell_type": "code",
      "source": [
        "df.rename(columns={'Close(t)':'Close'}, inplace=True)\n",
        "df.head()"
      ],
      "metadata": {
        "colab": {
          "base_uri": "https://localhost:8080/",
          "height": 359
        },
        "id": "cC6P--TFkIyU",
        "outputId": "9462ad6b-9f62-4ce9-f9f8-df9694226559"
      },
      "execution_count": 11,
      "outputs": [
        {
          "output_type": "execute_result",
          "data": {
            "text/plain": [
              "         Date    Open    High     Low   Close    Volume       SD20  \\\n",
              "0  2007-10-17  315.54  317.32  311.11  317.06  12048900  13.498014   \n",
              "1  2007-10-18  318.02  321.01  314.56  320.13  24553800  13.603549   \n",
              "2  2007-10-19  327.61  329.57  321.94  322.68  31546400  13.859332   \n",
              "3  2007-10-22  319.65  327.83  318.46  325.70  13315400  14.319036   \n",
              "4  2007-10-23  330.96  339.14  330.33  338.22  13573800  15.652638   \n",
              "\n",
              "   Upper_Band  Lower_Band  S_Close(t-1)  ...  QQQ_MA10  QQQ_MA20  QQQ_MA50  \\\n",
              "0  323.694527  269.702473        308.31  ...    47.102   46.2860   44.1214   \n",
              "1  326.077599  271.663401        317.06  ...    47.280   46.4535   44.2096   \n",
              "2  328.706664  273.269336        320.13  ...    47.246   46.5460   44.2940   \n",
              "3  331.696571  274.420429        322.68  ...    47.239   46.6560   44.3972   \n",
              "4  337.035777  274.425223        325.70  ...    47.310   46.7945   44.5146   \n",
              "\n",
              "   SnP_Close  SnP(t-1))  SnP(t-5)  DJIA_Close  DJIA(t-1))  DJIA(t-5)  \\\n",
              "0    1541.24    1538.53   1562.47    13892.54    13912.94   14078.69   \n",
              "1    1540.08    1541.24   1554.41    13888.96    13892.54   14015.12   \n",
              "2    1500.63    1540.08   1561.80    13522.02    13888.96   14093.08   \n",
              "3    1506.33    1500.63   1548.71    13566.97    13522.02   13984.80   \n",
              "4    1519.59    1506.33   1538.53    13676.23    13566.97   13912.94   \n",
              "\n",
              "   Close_forcast  \n",
              "0         320.13  \n",
              "1         322.68  \n",
              "2         325.70  \n",
              "3         338.22  \n",
              "4         338.25  \n",
              "\n",
              "[5 rows x 64 columns]"
            ],
            "text/html": [
              "\n",
              "  <div id=\"df-da282bb8-0404-4321-b53f-b887f8ccff3a\" class=\"colab-df-container\">\n",
              "    <div>\n",
              "<style scoped>\n",
              "    .dataframe tbody tr th:only-of-type {\n",
              "        vertical-align: middle;\n",
              "    }\n",
              "\n",
              "    .dataframe tbody tr th {\n",
              "        vertical-align: top;\n",
              "    }\n",
              "\n",
              "    .dataframe thead th {\n",
              "        text-align: right;\n",
              "    }\n",
              "</style>\n",
              "<table border=\"1\" class=\"dataframe\">\n",
              "  <thead>\n",
              "    <tr style=\"text-align: right;\">\n",
              "      <th></th>\n",
              "      <th>Date</th>\n",
              "      <th>Open</th>\n",
              "      <th>High</th>\n",
              "      <th>Low</th>\n",
              "      <th>Close</th>\n",
              "      <th>Volume</th>\n",
              "      <th>SD20</th>\n",
              "      <th>Upper_Band</th>\n",
              "      <th>Lower_Band</th>\n",
              "      <th>S_Close(t-1)</th>\n",
              "      <th>...</th>\n",
              "      <th>QQQ_MA10</th>\n",
              "      <th>QQQ_MA20</th>\n",
              "      <th>QQQ_MA50</th>\n",
              "      <th>SnP_Close</th>\n",
              "      <th>SnP(t-1))</th>\n",
              "      <th>SnP(t-5)</th>\n",
              "      <th>DJIA_Close</th>\n",
              "      <th>DJIA(t-1))</th>\n",
              "      <th>DJIA(t-5)</th>\n",
              "      <th>Close_forcast</th>\n",
              "    </tr>\n",
              "  </thead>\n",
              "  <tbody>\n",
              "    <tr>\n",
              "      <th>0</th>\n",
              "      <td>2007-10-17</td>\n",
              "      <td>315.54</td>\n",
              "      <td>317.32</td>\n",
              "      <td>311.11</td>\n",
              "      <td>317.06</td>\n",
              "      <td>12048900</td>\n",
              "      <td>13.498014</td>\n",
              "      <td>323.694527</td>\n",
              "      <td>269.702473</td>\n",
              "      <td>308.31</td>\n",
              "      <td>...</td>\n",
              "      <td>47.102</td>\n",
              "      <td>46.2860</td>\n",
              "      <td>44.1214</td>\n",
              "      <td>1541.24</td>\n",
              "      <td>1538.53</td>\n",
              "      <td>1562.47</td>\n",
              "      <td>13892.54</td>\n",
              "      <td>13912.94</td>\n",
              "      <td>14078.69</td>\n",
              "      <td>320.13</td>\n",
              "    </tr>\n",
              "    <tr>\n",
              "      <th>1</th>\n",
              "      <td>2007-10-18</td>\n",
              "      <td>318.02</td>\n",
              "      <td>321.01</td>\n",
              "      <td>314.56</td>\n",
              "      <td>320.13</td>\n",
              "      <td>24553800</td>\n",
              "      <td>13.603549</td>\n",
              "      <td>326.077599</td>\n",
              "      <td>271.663401</td>\n",
              "      <td>317.06</td>\n",
              "      <td>...</td>\n",
              "      <td>47.280</td>\n",
              "      <td>46.4535</td>\n",
              "      <td>44.2096</td>\n",
              "      <td>1540.08</td>\n",
              "      <td>1541.24</td>\n",
              "      <td>1554.41</td>\n",
              "      <td>13888.96</td>\n",
              "      <td>13892.54</td>\n",
              "      <td>14015.12</td>\n",
              "      <td>322.68</td>\n",
              "    </tr>\n",
              "    <tr>\n",
              "      <th>2</th>\n",
              "      <td>2007-10-19</td>\n",
              "      <td>327.61</td>\n",
              "      <td>329.57</td>\n",
              "      <td>321.94</td>\n",
              "      <td>322.68</td>\n",
              "      <td>31546400</td>\n",
              "      <td>13.859332</td>\n",
              "      <td>328.706664</td>\n",
              "      <td>273.269336</td>\n",
              "      <td>320.13</td>\n",
              "      <td>...</td>\n",
              "      <td>47.246</td>\n",
              "      <td>46.5460</td>\n",
              "      <td>44.2940</td>\n",
              "      <td>1500.63</td>\n",
              "      <td>1540.08</td>\n",
              "      <td>1561.80</td>\n",
              "      <td>13522.02</td>\n",
              "      <td>13888.96</td>\n",
              "      <td>14093.08</td>\n",
              "      <td>325.70</td>\n",
              "    </tr>\n",
              "    <tr>\n",
              "      <th>3</th>\n",
              "      <td>2007-10-22</td>\n",
              "      <td>319.65</td>\n",
              "      <td>327.83</td>\n",
              "      <td>318.46</td>\n",
              "      <td>325.70</td>\n",
              "      <td>13315400</td>\n",
              "      <td>14.319036</td>\n",
              "      <td>331.696571</td>\n",
              "      <td>274.420429</td>\n",
              "      <td>322.68</td>\n",
              "      <td>...</td>\n",
              "      <td>47.239</td>\n",
              "      <td>46.6560</td>\n",
              "      <td>44.3972</td>\n",
              "      <td>1506.33</td>\n",
              "      <td>1500.63</td>\n",
              "      <td>1548.71</td>\n",
              "      <td>13566.97</td>\n",
              "      <td>13522.02</td>\n",
              "      <td>13984.80</td>\n",
              "      <td>338.22</td>\n",
              "    </tr>\n",
              "    <tr>\n",
              "      <th>4</th>\n",
              "      <td>2007-10-23</td>\n",
              "      <td>330.96</td>\n",
              "      <td>339.14</td>\n",
              "      <td>330.33</td>\n",
              "      <td>338.22</td>\n",
              "      <td>13573800</td>\n",
              "      <td>15.652638</td>\n",
              "      <td>337.035777</td>\n",
              "      <td>274.425223</td>\n",
              "      <td>325.70</td>\n",
              "      <td>...</td>\n",
              "      <td>47.310</td>\n",
              "      <td>46.7945</td>\n",
              "      <td>44.5146</td>\n",
              "      <td>1519.59</td>\n",
              "      <td>1506.33</td>\n",
              "      <td>1538.53</td>\n",
              "      <td>13676.23</td>\n",
              "      <td>13566.97</td>\n",
              "      <td>13912.94</td>\n",
              "      <td>338.25</td>\n",
              "    </tr>\n",
              "  </tbody>\n",
              "</table>\n",
              "<p>5 rows × 64 columns</p>\n",
              "</div>\n",
              "    <div class=\"colab-df-buttons\">\n",
              "\n",
              "  <div class=\"colab-df-container\">\n",
              "    <button class=\"colab-df-convert\" onclick=\"convertToInteractive('df-da282bb8-0404-4321-b53f-b887f8ccff3a')\"\n",
              "            title=\"Convert this dataframe to an interactive table.\"\n",
              "            style=\"display:none;\">\n",
              "\n",
              "  <svg xmlns=\"http://www.w3.org/2000/svg\" height=\"24px\" viewBox=\"0 -960 960 960\">\n",
              "    <path d=\"M120-120v-720h720v720H120Zm60-500h600v-160H180v160Zm220 220h160v-160H400v160Zm0 220h160v-160H400v160ZM180-400h160v-160H180v160Zm440 0h160v-160H620v160ZM180-180h160v-160H180v160Zm440 0h160v-160H620v160Z\"/>\n",
              "  </svg>\n",
              "    </button>\n",
              "\n",
              "  <style>\n",
              "    .colab-df-container {\n",
              "      display:flex;\n",
              "      gap: 12px;\n",
              "    }\n",
              "\n",
              "    .colab-df-convert {\n",
              "      background-color: #E8F0FE;\n",
              "      border: none;\n",
              "      border-radius: 50%;\n",
              "      cursor: pointer;\n",
              "      display: none;\n",
              "      fill: #1967D2;\n",
              "      height: 32px;\n",
              "      padding: 0 0 0 0;\n",
              "      width: 32px;\n",
              "    }\n",
              "\n",
              "    .colab-df-convert:hover {\n",
              "      background-color: #E2EBFA;\n",
              "      box-shadow: 0px 1px 2px rgba(60, 64, 67, 0.3), 0px 1px 3px 1px rgba(60, 64, 67, 0.15);\n",
              "      fill: #174EA6;\n",
              "    }\n",
              "\n",
              "    .colab-df-buttons div {\n",
              "      margin-bottom: 4px;\n",
              "    }\n",
              "\n",
              "    [theme=dark] .colab-df-convert {\n",
              "      background-color: #3B4455;\n",
              "      fill: #D2E3FC;\n",
              "    }\n",
              "\n",
              "    [theme=dark] .colab-df-convert:hover {\n",
              "      background-color: #434B5C;\n",
              "      box-shadow: 0px 1px 3px 1px rgba(0, 0, 0, 0.15);\n",
              "      filter: drop-shadow(0px 1px 2px rgba(0, 0, 0, 0.3));\n",
              "      fill: #FFFFFF;\n",
              "    }\n",
              "  </style>\n",
              "\n",
              "    <script>\n",
              "      const buttonEl =\n",
              "        document.querySelector('#df-da282bb8-0404-4321-b53f-b887f8ccff3a button.colab-df-convert');\n",
              "      buttonEl.style.display =\n",
              "        google.colab.kernel.accessAllowed ? 'block' : 'none';\n",
              "\n",
              "      async function convertToInteractive(key) {\n",
              "        const element = document.querySelector('#df-da282bb8-0404-4321-b53f-b887f8ccff3a');\n",
              "        const dataTable =\n",
              "          await google.colab.kernel.invokeFunction('convertToInteractive',\n",
              "                                                    [key], {});\n",
              "        if (!dataTable) return;\n",
              "\n",
              "        const docLinkHtml = 'Like what you see? Visit the ' +\n",
              "          '<a target=\"_blank\" href=https://colab.research.google.com/notebooks/data_table.ipynb>data table notebook</a>'\n",
              "          + ' to learn more about interactive tables.';\n",
              "        element.innerHTML = '';\n",
              "        dataTable['output_type'] = 'display_data';\n",
              "        await google.colab.output.renderOutput(dataTable, element);\n",
              "        const docLink = document.createElement('div');\n",
              "        docLink.innerHTML = docLinkHtml;\n",
              "        element.appendChild(docLink);\n",
              "      }\n",
              "    </script>\n",
              "  </div>\n",
              "\n",
              "\n",
              "<div id=\"df-0fbc30b3-f414-47de-82ea-1f97c0578b34\">\n",
              "  <button class=\"colab-df-quickchart\" onclick=\"quickchart('df-0fbc30b3-f414-47de-82ea-1f97c0578b34')\"\n",
              "            title=\"Suggest charts.\"\n",
              "            style=\"display:none;\">\n",
              "\n",
              "<svg xmlns=\"http://www.w3.org/2000/svg\" height=\"24px\"viewBox=\"0 0 24 24\"\n",
              "     width=\"24px\">\n",
              "    <g>\n",
              "        <path d=\"M19 3H5c-1.1 0-2 .9-2 2v14c0 1.1.9 2 2 2h14c1.1 0 2-.9 2-2V5c0-1.1-.9-2-2-2zM9 17H7v-7h2v7zm4 0h-2V7h2v10zm4 0h-2v-4h2v4z\"/>\n",
              "    </g>\n",
              "</svg>\n",
              "  </button>\n",
              "\n",
              "<style>\n",
              "  .colab-df-quickchart {\n",
              "    background-color: #E8F0FE;\n",
              "    border: none;\n",
              "    border-radius: 50%;\n",
              "    cursor: pointer;\n",
              "    display: none;\n",
              "    fill: #1967D2;\n",
              "    height: 32px;\n",
              "    padding: 0 0 0 0;\n",
              "    width: 32px;\n",
              "  }\n",
              "\n",
              "  .colab-df-quickchart:hover {\n",
              "    background-color: #E2EBFA;\n",
              "    box-shadow: 0px 1px 2px rgba(60, 64, 67, 0.3), 0px 1px 3px 1px rgba(60, 64, 67, 0.15);\n",
              "    fill: #174EA6;\n",
              "  }\n",
              "\n",
              "  [theme=dark] .colab-df-quickchart {\n",
              "    background-color: #3B4455;\n",
              "    fill: #D2E3FC;\n",
              "  }\n",
              "\n",
              "  [theme=dark] .colab-df-quickchart:hover {\n",
              "    background-color: #434B5C;\n",
              "    box-shadow: 0px 1px 3px 1px rgba(0, 0, 0, 0.15);\n",
              "    filter: drop-shadow(0px 1px 2px rgba(0, 0, 0, 0.3));\n",
              "    fill: #FFFFFF;\n",
              "  }\n",
              "</style>\n",
              "\n",
              "  <script>\n",
              "    async function quickchart(key) {\n",
              "      const charts = await google.colab.kernel.invokeFunction(\n",
              "          'suggestCharts', [key], {});\n",
              "    }\n",
              "    (() => {\n",
              "      let quickchartButtonEl =\n",
              "        document.querySelector('#df-0fbc30b3-f414-47de-82ea-1f97c0578b34 button');\n",
              "      quickchartButtonEl.style.display =\n",
              "        google.colab.kernel.accessAllowed ? 'block' : 'none';\n",
              "    })();\n",
              "  </script>\n",
              "</div>\n",
              "    </div>\n",
              "  </div>\n"
            ]
          },
          "metadata": {},
          "execution_count": 11
        }
      ]
    },
    {
      "cell_type": "markdown",
      "source": [
        "Date column is of type 'object'. Therefore it is necessary to cast it into type Date"
      ],
      "metadata": {
        "id": "LURQj5FBoiAW"
      }
    },
    {
      "cell_type": "code",
      "source": [
        "# changing date format - date time format, to_datetime func\n",
        "df['Date'] = pd.to_datetime(df['Date'])"
      ],
      "metadata": {
        "id": "8i8fg2H2kNCO"
      },
      "execution_count": 12,
      "outputs": []
    },
    {
      "cell_type": "code",
      "source": [
        "df.info()"
      ],
      "metadata": {
        "colab": {
          "base_uri": "https://localhost:8080/"
        },
        "id": "M30AYoAqkZRy",
        "outputId": "9ee79f68-5c9e-4bfb-96a6-ad5ef69b406a"
      },
      "execution_count": 13,
      "outputs": [
        {
          "output_type": "stream",
          "name": "stdout",
          "text": [
            "<class 'pandas.core.frame.DataFrame'>\n",
            "RangeIndex: 3229 entries, 0 to 3228\n",
            "Data columns (total 64 columns):\n",
            " #   Column            Non-Null Count  Dtype         \n",
            "---  ------            --------------  -----         \n",
            " 0   Date              3229 non-null   datetime64[ns]\n",
            " 1   Open              3229 non-null   float64       \n",
            " 2   High              3229 non-null   float64       \n",
            " 3   Low               3229 non-null   float64       \n",
            " 4   Close             3229 non-null   float64       \n",
            " 5   Volume            3229 non-null   int64         \n",
            " 6   SD20              3229 non-null   float64       \n",
            " 7   Upper_Band        3229 non-null   float64       \n",
            " 8   Lower_Band        3229 non-null   float64       \n",
            " 9   S_Close(t-1)      3229 non-null   float64       \n",
            " 10  S_Close(t-2)      3229 non-null   float64       \n",
            " 11  S_Close(t-3)      3229 non-null   float64       \n",
            " 12  S_Close(t-5)      3229 non-null   float64       \n",
            " 13  S_Open(t-1)       3229 non-null   float64       \n",
            " 14  MA5               3229 non-null   float64       \n",
            " 15  MA10              3229 non-null   float64       \n",
            " 16  MA20              3229 non-null   float64       \n",
            " 17  MA50              3229 non-null   float64       \n",
            " 18  MA200             3229 non-null   float64       \n",
            " 19  EMA10             3229 non-null   float64       \n",
            " 20  EMA20             3229 non-null   float64       \n",
            " 21  EMA50             3229 non-null   float64       \n",
            " 22  EMA100            3229 non-null   float64       \n",
            " 23  EMA200            3229 non-null   float64       \n",
            " 24  MACD              3229 non-null   float64       \n",
            " 25  MACD_EMA          3229 non-null   float64       \n",
            " 26  ATR               3229 non-null   float64       \n",
            " 27  ADX               3229 non-null   float64       \n",
            " 28  CCI               3229 non-null   float64       \n",
            " 29  ROC               3229 non-null   float64       \n",
            " 30  RSI               3229 non-null   float64       \n",
            " 31  William%R         3229 non-null   float64       \n",
            " 32  SO%K              3229 non-null   float64       \n",
            " 33  STD5              3229 non-null   float64       \n",
            " 34  ForceIndex1       3229 non-null   float64       \n",
            " 35  ForceIndex20      3229 non-null   float64       \n",
            " 36  Date_col          3229 non-null   object        \n",
            " 37  Day               3229 non-null   int64         \n",
            " 38  DayofWeek         3229 non-null   int64         \n",
            " 39  DayofYear         3229 non-null   int64         \n",
            " 40  Week              3229 non-null   int64         \n",
            " 41  Is_month_end      3229 non-null   int64         \n",
            " 42  Is_month_start    3229 non-null   int64         \n",
            " 43  Is_quarter_end    3229 non-null   int64         \n",
            " 44  Is_quarter_start  3229 non-null   int64         \n",
            " 45  Is_year_end       3229 non-null   int64         \n",
            " 46  Is_year_start     3229 non-null   int64         \n",
            " 47  Is_leap_year      3229 non-null   int64         \n",
            " 48  Year              3229 non-null   int64         \n",
            " 49  Month             3229 non-null   int64         \n",
            " 50  QQQ_Close         3229 non-null   float64       \n",
            " 51  QQQ(t-1)          3229 non-null   float64       \n",
            " 52  QQQ(t-2)          3229 non-null   float64       \n",
            " 53  QQQ(t-5)          3229 non-null   float64       \n",
            " 54  QQQ_MA10          3229 non-null   float64       \n",
            " 55  QQQ_MA20          3229 non-null   float64       \n",
            " 56  QQQ_MA50          3229 non-null   float64       \n",
            " 57  SnP_Close         3229 non-null   float64       \n",
            " 58  SnP(t-1))         3229 non-null   float64       \n",
            " 59  SnP(t-5)          3229 non-null   float64       \n",
            " 60  DJIA_Close        3229 non-null   float64       \n",
            " 61  DJIA(t-1))        3229 non-null   float64       \n",
            " 62  DJIA(t-5)         3229 non-null   float64       \n",
            " 63  Close_forcast     3229 non-null   float64       \n",
            "dtypes: datetime64[ns](1), float64(48), int64(14), object(1)\n",
            "memory usage: 1.6+ MB\n"
          ]
        }
      ]
    },
    {
      "cell_type": "code",
      "source": [
        "df.describe()"
      ],
      "metadata": {
        "colab": {
          "base_uri": "https://localhost:8080/",
          "height": 367
        },
        "id": "m8cCrSX_kbwt",
        "outputId": "880c3a40-6e96-4c5a-f946-85bc6df3be3d"
      },
      "execution_count": 14,
      "outputs": [
        {
          "output_type": "execute_result",
          "data": {
            "text/plain": [
              "              Open         High          Low        Close        Volume  \\\n",
              "count  3229.000000  3229.000000  3229.000000  3229.000000  3.229000e+03   \n",
              "mean    615.820059   621.492471   609.775621   615.836646  4.489683e+06   \n",
              "std     373.529679   377.037479   370.134402   373.867807  4.244228e+06   \n",
              "min     131.390000   134.820000   123.770000   128.850000  5.206000e+05   \n",
              "25%     290.830000   293.400000   287.930000   290.580000  1.673800e+06   \n",
              "50%     537.640000   541.950000   532.240000   537.760000  3.206700e+06   \n",
              "75%     939.070000   944.080000   931.250000   938.080000  5.604100e+06   \n",
              "max    1585.030000  1587.050000  1552.620000  1564.850000  4.652800e+07   \n",
              "\n",
              "              SD20   Upper_Band   Lower_Band  S_Close(t-1)  S_Close(t-2)  ...  \\\n",
              "count  3229.000000  3229.000000  3229.000000   3229.000000   3229.000000  ...   \n",
              "mean     15.845429   643.996784   580.615068    615.462431    615.091768  ...   \n",
              "std      13.565474   388.549262   353.775668    373.570491    373.279044  ...   \n",
              "min       2.385956   160.795478   120.186229    128.850000    128.850000  ...   \n",
              "25%       7.381170   307.811652   274.591811    290.580000    290.580000  ...   \n",
              "50%      11.375394   558.422072   512.251998    537.550000    537.510000  ...   \n",
              "75%      19.973213   957.583570   911.598582    937.820000    937.430000  ...   \n",
              "max     129.197311  1612.148227  1477.404581   1564.850000   1564.850000  ...   \n",
              "\n",
              "          QQQ_MA10     QQQ_MA20     QQQ_MA50    SnP_Close    SnP(t-1))  \\\n",
              "count  3229.000000  3229.000000  3229.000000  3229.000000  3229.000000   \n",
              "mean     95.649627    95.310540    94.320622  1869.748390  1869.180133   \n",
              "std      56.235950    55.841654    54.745911   672.900632   672.404990   \n",
              "min      24.048000    24.828500    25.837200   676.530000   676.530000   \n",
              "25%      48.441000    48.366500    48.165000  1300.670000  1300.670000   \n",
              "50%      82.214000    81.957500    82.553200  1852.560000  1852.210000   \n",
              "75%     134.861000   135.017000   131.383600  2402.320000  2400.670000   \n",
              "max     270.255000   265.454000   255.044600  3386.150000  3386.150000   \n",
              "\n",
              "          SnP(t-5)    DJIA_Close    DJIA(t-1))     DJIA(t-5)  Close_forcast  \n",
              "count  3229.000000   3229.000000   3229.000000   3229.000000    3229.000000  \n",
              "mean   1866.950836  16754.672013  16750.341329  16733.395841     616.204429  \n",
              "std     670.449923   5754.239059   5751.112171   5738.891082     374.157810  \n",
              "min     676.530000   6547.050000   6547.050000   6547.050000     128.850000  \n",
              "25%    1300.670000  12151.260000  12151.260000  12151.260000     290.580000  \n",
              "50%    1848.380000  16222.170000  16221.140000  16198.410000     538.000000  \n",
              "75%    2398.420000  21006.940000  21005.710000  20981.330000     938.930000  \n",
              "max    3386.150000  29551.420000  29551.420000  29551.420000    1564.850000  \n",
              "\n",
              "[8 rows x 62 columns]"
            ],
            "text/html": [
              "\n",
              "  <div id=\"df-67a8247b-28b2-442f-acf8-4a5587c5a3c2\" class=\"colab-df-container\">\n",
              "    <div>\n",
              "<style scoped>\n",
              "    .dataframe tbody tr th:only-of-type {\n",
              "        vertical-align: middle;\n",
              "    }\n",
              "\n",
              "    .dataframe tbody tr th {\n",
              "        vertical-align: top;\n",
              "    }\n",
              "\n",
              "    .dataframe thead th {\n",
              "        text-align: right;\n",
              "    }\n",
              "</style>\n",
              "<table border=\"1\" class=\"dataframe\">\n",
              "  <thead>\n",
              "    <tr style=\"text-align: right;\">\n",
              "      <th></th>\n",
              "      <th>Open</th>\n",
              "      <th>High</th>\n",
              "      <th>Low</th>\n",
              "      <th>Close</th>\n",
              "      <th>Volume</th>\n",
              "      <th>SD20</th>\n",
              "      <th>Upper_Band</th>\n",
              "      <th>Lower_Band</th>\n",
              "      <th>S_Close(t-1)</th>\n",
              "      <th>S_Close(t-2)</th>\n",
              "      <th>...</th>\n",
              "      <th>QQQ_MA10</th>\n",
              "      <th>QQQ_MA20</th>\n",
              "      <th>QQQ_MA50</th>\n",
              "      <th>SnP_Close</th>\n",
              "      <th>SnP(t-1))</th>\n",
              "      <th>SnP(t-5)</th>\n",
              "      <th>DJIA_Close</th>\n",
              "      <th>DJIA(t-1))</th>\n",
              "      <th>DJIA(t-5)</th>\n",
              "      <th>Close_forcast</th>\n",
              "    </tr>\n",
              "  </thead>\n",
              "  <tbody>\n",
              "    <tr>\n",
              "      <th>count</th>\n",
              "      <td>3229.000000</td>\n",
              "      <td>3229.000000</td>\n",
              "      <td>3229.000000</td>\n",
              "      <td>3229.000000</td>\n",
              "      <td>3.229000e+03</td>\n",
              "      <td>3229.000000</td>\n",
              "      <td>3229.000000</td>\n",
              "      <td>3229.000000</td>\n",
              "      <td>3229.000000</td>\n",
              "      <td>3229.000000</td>\n",
              "      <td>...</td>\n",
              "      <td>3229.000000</td>\n",
              "      <td>3229.000000</td>\n",
              "      <td>3229.000000</td>\n",
              "      <td>3229.000000</td>\n",
              "      <td>3229.000000</td>\n",
              "      <td>3229.000000</td>\n",
              "      <td>3229.000000</td>\n",
              "      <td>3229.000000</td>\n",
              "      <td>3229.000000</td>\n",
              "      <td>3229.000000</td>\n",
              "    </tr>\n",
              "    <tr>\n",
              "      <th>mean</th>\n",
              "      <td>615.820059</td>\n",
              "      <td>621.492471</td>\n",
              "      <td>609.775621</td>\n",
              "      <td>615.836646</td>\n",
              "      <td>4.489683e+06</td>\n",
              "      <td>15.845429</td>\n",
              "      <td>643.996784</td>\n",
              "      <td>580.615068</td>\n",
              "      <td>615.462431</td>\n",
              "      <td>615.091768</td>\n",
              "      <td>...</td>\n",
              "      <td>95.649627</td>\n",
              "      <td>95.310540</td>\n",
              "      <td>94.320622</td>\n",
              "      <td>1869.748390</td>\n",
              "      <td>1869.180133</td>\n",
              "      <td>1866.950836</td>\n",
              "      <td>16754.672013</td>\n",
              "      <td>16750.341329</td>\n",
              "      <td>16733.395841</td>\n",
              "      <td>616.204429</td>\n",
              "    </tr>\n",
              "    <tr>\n",
              "      <th>std</th>\n",
              "      <td>373.529679</td>\n",
              "      <td>377.037479</td>\n",
              "      <td>370.134402</td>\n",
              "      <td>373.867807</td>\n",
              "      <td>4.244228e+06</td>\n",
              "      <td>13.565474</td>\n",
              "      <td>388.549262</td>\n",
              "      <td>353.775668</td>\n",
              "      <td>373.570491</td>\n",
              "      <td>373.279044</td>\n",
              "      <td>...</td>\n",
              "      <td>56.235950</td>\n",
              "      <td>55.841654</td>\n",
              "      <td>54.745911</td>\n",
              "      <td>672.900632</td>\n",
              "      <td>672.404990</td>\n",
              "      <td>670.449923</td>\n",
              "      <td>5754.239059</td>\n",
              "      <td>5751.112171</td>\n",
              "      <td>5738.891082</td>\n",
              "      <td>374.157810</td>\n",
              "    </tr>\n",
              "    <tr>\n",
              "      <th>min</th>\n",
              "      <td>131.390000</td>\n",
              "      <td>134.820000</td>\n",
              "      <td>123.770000</td>\n",
              "      <td>128.850000</td>\n",
              "      <td>5.206000e+05</td>\n",
              "      <td>2.385956</td>\n",
              "      <td>160.795478</td>\n",
              "      <td>120.186229</td>\n",
              "      <td>128.850000</td>\n",
              "      <td>128.850000</td>\n",
              "      <td>...</td>\n",
              "      <td>24.048000</td>\n",
              "      <td>24.828500</td>\n",
              "      <td>25.837200</td>\n",
              "      <td>676.530000</td>\n",
              "      <td>676.530000</td>\n",
              "      <td>676.530000</td>\n",
              "      <td>6547.050000</td>\n",
              "      <td>6547.050000</td>\n",
              "      <td>6547.050000</td>\n",
              "      <td>128.850000</td>\n",
              "    </tr>\n",
              "    <tr>\n",
              "      <th>25%</th>\n",
              "      <td>290.830000</td>\n",
              "      <td>293.400000</td>\n",
              "      <td>287.930000</td>\n",
              "      <td>290.580000</td>\n",
              "      <td>1.673800e+06</td>\n",
              "      <td>7.381170</td>\n",
              "      <td>307.811652</td>\n",
              "      <td>274.591811</td>\n",
              "      <td>290.580000</td>\n",
              "      <td>290.580000</td>\n",
              "      <td>...</td>\n",
              "      <td>48.441000</td>\n",
              "      <td>48.366500</td>\n",
              "      <td>48.165000</td>\n",
              "      <td>1300.670000</td>\n",
              "      <td>1300.670000</td>\n",
              "      <td>1300.670000</td>\n",
              "      <td>12151.260000</td>\n",
              "      <td>12151.260000</td>\n",
              "      <td>12151.260000</td>\n",
              "      <td>290.580000</td>\n",
              "    </tr>\n",
              "    <tr>\n",
              "      <th>50%</th>\n",
              "      <td>537.640000</td>\n",
              "      <td>541.950000</td>\n",
              "      <td>532.240000</td>\n",
              "      <td>537.760000</td>\n",
              "      <td>3.206700e+06</td>\n",
              "      <td>11.375394</td>\n",
              "      <td>558.422072</td>\n",
              "      <td>512.251998</td>\n",
              "      <td>537.550000</td>\n",
              "      <td>537.510000</td>\n",
              "      <td>...</td>\n",
              "      <td>82.214000</td>\n",
              "      <td>81.957500</td>\n",
              "      <td>82.553200</td>\n",
              "      <td>1852.560000</td>\n",
              "      <td>1852.210000</td>\n",
              "      <td>1848.380000</td>\n",
              "      <td>16222.170000</td>\n",
              "      <td>16221.140000</td>\n",
              "      <td>16198.410000</td>\n",
              "      <td>538.000000</td>\n",
              "    </tr>\n",
              "    <tr>\n",
              "      <th>75%</th>\n",
              "      <td>939.070000</td>\n",
              "      <td>944.080000</td>\n",
              "      <td>931.250000</td>\n",
              "      <td>938.080000</td>\n",
              "      <td>5.604100e+06</td>\n",
              "      <td>19.973213</td>\n",
              "      <td>957.583570</td>\n",
              "      <td>911.598582</td>\n",
              "      <td>937.820000</td>\n",
              "      <td>937.430000</td>\n",
              "      <td>...</td>\n",
              "      <td>134.861000</td>\n",
              "      <td>135.017000</td>\n",
              "      <td>131.383600</td>\n",
              "      <td>2402.320000</td>\n",
              "      <td>2400.670000</td>\n",
              "      <td>2398.420000</td>\n",
              "      <td>21006.940000</td>\n",
              "      <td>21005.710000</td>\n",
              "      <td>20981.330000</td>\n",
              "      <td>938.930000</td>\n",
              "    </tr>\n",
              "    <tr>\n",
              "      <th>max</th>\n",
              "      <td>1585.030000</td>\n",
              "      <td>1587.050000</td>\n",
              "      <td>1552.620000</td>\n",
              "      <td>1564.850000</td>\n",
              "      <td>4.652800e+07</td>\n",
              "      <td>129.197311</td>\n",
              "      <td>1612.148227</td>\n",
              "      <td>1477.404581</td>\n",
              "      <td>1564.850000</td>\n",
              "      <td>1564.850000</td>\n",
              "      <td>...</td>\n",
              "      <td>270.255000</td>\n",
              "      <td>265.454000</td>\n",
              "      <td>255.044600</td>\n",
              "      <td>3386.150000</td>\n",
              "      <td>3386.150000</td>\n",
              "      <td>3386.150000</td>\n",
              "      <td>29551.420000</td>\n",
              "      <td>29551.420000</td>\n",
              "      <td>29551.420000</td>\n",
              "      <td>1564.850000</td>\n",
              "    </tr>\n",
              "  </tbody>\n",
              "</table>\n",
              "<p>8 rows × 62 columns</p>\n",
              "</div>\n",
              "    <div class=\"colab-df-buttons\">\n",
              "\n",
              "  <div class=\"colab-df-container\">\n",
              "    <button class=\"colab-df-convert\" onclick=\"convertToInteractive('df-67a8247b-28b2-442f-acf8-4a5587c5a3c2')\"\n",
              "            title=\"Convert this dataframe to an interactive table.\"\n",
              "            style=\"display:none;\">\n",
              "\n",
              "  <svg xmlns=\"http://www.w3.org/2000/svg\" height=\"24px\" viewBox=\"0 -960 960 960\">\n",
              "    <path d=\"M120-120v-720h720v720H120Zm60-500h600v-160H180v160Zm220 220h160v-160H400v160Zm0 220h160v-160H400v160ZM180-400h160v-160H180v160Zm440 0h160v-160H620v160ZM180-180h160v-160H180v160Zm440 0h160v-160H620v160Z\"/>\n",
              "  </svg>\n",
              "    </button>\n",
              "\n",
              "  <style>\n",
              "    .colab-df-container {\n",
              "      display:flex;\n",
              "      gap: 12px;\n",
              "    }\n",
              "\n",
              "    .colab-df-convert {\n",
              "      background-color: #E8F0FE;\n",
              "      border: none;\n",
              "      border-radius: 50%;\n",
              "      cursor: pointer;\n",
              "      display: none;\n",
              "      fill: #1967D2;\n",
              "      height: 32px;\n",
              "      padding: 0 0 0 0;\n",
              "      width: 32px;\n",
              "    }\n",
              "\n",
              "    .colab-df-convert:hover {\n",
              "      background-color: #E2EBFA;\n",
              "      box-shadow: 0px 1px 2px rgba(60, 64, 67, 0.3), 0px 1px 3px 1px rgba(60, 64, 67, 0.15);\n",
              "      fill: #174EA6;\n",
              "    }\n",
              "\n",
              "    .colab-df-buttons div {\n",
              "      margin-bottom: 4px;\n",
              "    }\n",
              "\n",
              "    [theme=dark] .colab-df-convert {\n",
              "      background-color: #3B4455;\n",
              "      fill: #D2E3FC;\n",
              "    }\n",
              "\n",
              "    [theme=dark] .colab-df-convert:hover {\n",
              "      background-color: #434B5C;\n",
              "      box-shadow: 0px 1px 3px 1px rgba(0, 0, 0, 0.15);\n",
              "      filter: drop-shadow(0px 1px 2px rgba(0, 0, 0, 0.3));\n",
              "      fill: #FFFFFF;\n",
              "    }\n",
              "  </style>\n",
              "\n",
              "    <script>\n",
              "      const buttonEl =\n",
              "        document.querySelector('#df-67a8247b-28b2-442f-acf8-4a5587c5a3c2 button.colab-df-convert');\n",
              "      buttonEl.style.display =\n",
              "        google.colab.kernel.accessAllowed ? 'block' : 'none';\n",
              "\n",
              "      async function convertToInteractive(key) {\n",
              "        const element = document.querySelector('#df-67a8247b-28b2-442f-acf8-4a5587c5a3c2');\n",
              "        const dataTable =\n",
              "          await google.colab.kernel.invokeFunction('convertToInteractive',\n",
              "                                                    [key], {});\n",
              "        if (!dataTable) return;\n",
              "\n",
              "        const docLinkHtml = 'Like what you see? Visit the ' +\n",
              "          '<a target=\"_blank\" href=https://colab.research.google.com/notebooks/data_table.ipynb>data table notebook</a>'\n",
              "          + ' to learn more about interactive tables.';\n",
              "        element.innerHTML = '';\n",
              "        dataTable['output_type'] = 'display_data';\n",
              "        await google.colab.output.renderOutput(dataTable, element);\n",
              "        const docLink = document.createElement('div');\n",
              "        docLink.innerHTML = docLinkHtml;\n",
              "        element.appendChild(docLink);\n",
              "      }\n",
              "    </script>\n",
              "  </div>\n",
              "\n",
              "\n",
              "<div id=\"df-905ca83d-1743-4e81-9f50-60656499882a\">\n",
              "  <button class=\"colab-df-quickchart\" onclick=\"quickchart('df-905ca83d-1743-4e81-9f50-60656499882a')\"\n",
              "            title=\"Suggest charts.\"\n",
              "            style=\"display:none;\">\n",
              "\n",
              "<svg xmlns=\"http://www.w3.org/2000/svg\" height=\"24px\"viewBox=\"0 0 24 24\"\n",
              "     width=\"24px\">\n",
              "    <g>\n",
              "        <path d=\"M19 3H5c-1.1 0-2 .9-2 2v14c0 1.1.9 2 2 2h14c1.1 0 2-.9 2-2V5c0-1.1-.9-2-2-2zM9 17H7v-7h2v7zm4 0h-2V7h2v10zm4 0h-2v-4h2v4z\"/>\n",
              "    </g>\n",
              "</svg>\n",
              "  </button>\n",
              "\n",
              "<style>\n",
              "  .colab-df-quickchart {\n",
              "    background-color: #E8F0FE;\n",
              "    border: none;\n",
              "    border-radius: 50%;\n",
              "    cursor: pointer;\n",
              "    display: none;\n",
              "    fill: #1967D2;\n",
              "    height: 32px;\n",
              "    padding: 0 0 0 0;\n",
              "    width: 32px;\n",
              "  }\n",
              "\n",
              "  .colab-df-quickchart:hover {\n",
              "    background-color: #E2EBFA;\n",
              "    box-shadow: 0px 1px 2px rgba(60, 64, 67, 0.3), 0px 1px 3px 1px rgba(60, 64, 67, 0.15);\n",
              "    fill: #174EA6;\n",
              "  }\n",
              "\n",
              "  [theme=dark] .colab-df-quickchart {\n",
              "    background-color: #3B4455;\n",
              "    fill: #D2E3FC;\n",
              "  }\n",
              "\n",
              "  [theme=dark] .colab-df-quickchart:hover {\n",
              "    background-color: #434B5C;\n",
              "    box-shadow: 0px 1px 3px 1px rgba(0, 0, 0, 0.15);\n",
              "    filter: drop-shadow(0px 1px 2px rgba(0, 0, 0, 0.3));\n",
              "    fill: #FFFFFF;\n",
              "  }\n",
              "</style>\n",
              "\n",
              "  <script>\n",
              "    async function quickchart(key) {\n",
              "      const charts = await google.colab.kernel.invokeFunction(\n",
              "          'suggestCharts', [key], {});\n",
              "    }\n",
              "    (() => {\n",
              "      let quickchartButtonEl =\n",
              "        document.querySelector('#df-905ca83d-1743-4e81-9f50-60656499882a button');\n",
              "      quickchartButtonEl.style.display =\n",
              "        google.colab.kernel.accessAllowed ? 'block' : 'none';\n",
              "    })();\n",
              "  </script>\n",
              "</div>\n",
              "    </div>\n",
              "  </div>\n"
            ]
          },
          "metadata": {},
          "execution_count": 14
        }
      ]
    },
    {
      "cell_type": "code",
      "source": [
        "df.columns"
      ],
      "metadata": {
        "colab": {
          "base_uri": "https://localhost:8080/"
        },
        "id": "APmabucXkf2q",
        "outputId": "5e7ffe9d-503b-4539-83bd-b9344e5fba6a"
      },
      "execution_count": 16,
      "outputs": [
        {
          "output_type": "execute_result",
          "data": {
            "text/plain": [
              "Index(['Date', 'Open', 'High', 'Low', 'Close', 'Volume', 'SD20', 'Upper_Band',\n",
              "       'Lower_Band', 'S_Close(t-1)', 'S_Close(t-2)', 'S_Close(t-3)',\n",
              "       'S_Close(t-5)', 'S_Open(t-1)', 'MA5', 'MA10', 'MA20', 'MA50', 'MA200',\n",
              "       'EMA10', 'EMA20', 'EMA50', 'EMA100', 'EMA200', 'MACD', 'MACD_EMA',\n",
              "       'ATR', 'ADX', 'CCI', 'ROC', 'RSI', 'William%R', 'SO%K', 'STD5',\n",
              "       'ForceIndex1', 'ForceIndex20', 'Date_col', 'Day', 'DayofWeek',\n",
              "       'DayofYear', 'Week', 'Is_month_end', 'Is_month_start', 'Is_quarter_end',\n",
              "       'Is_quarter_start', 'Is_year_end', 'Is_year_start', 'Is_leap_year',\n",
              "       'Year', 'Month', 'QQQ_Close', 'QQQ(t-1)', 'QQQ(t-2)', 'QQQ(t-5)',\n",
              "       'QQQ_MA10', 'QQQ_MA20', 'QQQ_MA50', 'SnP_Close', 'SnP(t-1))',\n",
              "       'SnP(t-5)', 'DJIA_Close', 'DJIA(t-1))', 'DJIA(t-5)', 'Close_forcast'],\n",
              "      dtype='object')"
            ]
          },
          "metadata": {},
          "execution_count": 16
        }
      ]
    },
    {
      "cell_type": "markdown",
      "source": [
        "##**PLOT TIME SERIES CHART FOR GOOGLE**\n",
        "###**Based on the Close Price of the Stock**"
      ],
      "metadata": {
        "id": "0ipaXwSvosRz"
      }
    },
    {
      "cell_type": "code",
      "source": [
        "#Visualizing Close Price data\n",
        "plt.figure(figsize=(15, 7))\n",
        "sns.lineplot(data=df, x='Date', y='Close')\n",
        "plt.title(\"Google Stock Price\", fontsize=20)\n",
        "plt.ylabel('Close Price in USD($) ', fontsize=14)\n",
        "plt.xlabel('Years', fontsize=14)\n",
        "plt.grid(which=\"major\", color='k', linestyle='-.', linewidth=0.5)\n",
        "plt.show()"
      ],
      "metadata": {
        "colab": {
          "base_uri": "https://localhost:8080/",
          "height": 583
        },
        "id": "C4MqeRz4kkTo",
        "outputId": "3d4733e0-045f-4ec6-9137-128a3c989b35"
      },
      "execution_count": 17,
      "outputs": [
        {
          "output_type": "display_data",
          "data": {
            "text/plain": [
              "<Figure size 1500x700 with 1 Axes>"
            ],
            "image/png": "[encoded data removed]"
          },
          "metadata": {}
        }
      ]
    },
    {
      "cell_type": "code",
      "source": [
        "#Visualizing the Volume of trade data\n",
        "df['Volume'].plot(figsize=(20, 5))\n",
        "plt.title('Volume Traded', fontsize=20)\n",
        "plt.ylabel('Volume ', fontsize=14)\n",
        "plt.xlabel('Date', fontsize=14)\n",
        "plt.show()"
      ],
      "metadata": {
        "colab": {
          "base_uri": "https://localhost:8080/",
          "height": 350
        },
        "id": "HZLuRCfOko3G",
        "outputId": "1db30280-a599-4423-8b07-c55af1482302"
      },
      "execution_count": 18,
      "outputs": [
        {
          "output_type": "display_data",
          "data": {
            "text/plain": [
              "<Figure size 2000x500 with 1 Axes>"
            ],
            "image/png": "[encoded data removed]"
          },
          "metadata": {}
        }
      ]
    },
    {
      "cell_type": "markdown",
      "source": [
        "## **PREPROCESSING THE DATA**"
      ],
      "metadata": {
        "id": "-WApSSyFow7d"
      }
    },
    {
      "cell_type": "code",
      "source": [
        "df.dtypes"
      ],
      "metadata": {
        "colab": {
          "base_uri": "https://localhost:8080/"
        },
        "id": "_3z7DPoJkwVd",
        "outputId": "af4b418b-1bf3-45a5-ca94-6c2401ee2dde"
      },
      "execution_count": 19,
      "outputs": [
        {
          "output_type": "execute_result",
          "data": {
            "text/plain": [
              "Date             datetime64[ns]\n",
              "Open                    float64\n",
              "High                    float64\n",
              "Low                     float64\n",
              "Close                   float64\n",
              "                      ...      \n",
              "SnP(t-5)                float64\n",
              "DJIA_Close              float64\n",
              "DJIA(t-1))              float64\n",
              "DJIA(t-5)               float64\n",
              "Close_forcast           float64\n",
              "Length: 64, dtype: object"
            ]
          },
          "metadata": {},
          "execution_count": 19
        }
      ]
    },
    {
      "cell_type": "markdown",
      "source": [
        "Since all the features of the dataset are numeric features, we only need to preprocess numeric features."
      ],
      "metadata": {
        "id": "oKlTmbMKo387"
      }
    },
    {
      "cell_type": "code",
      "source": [
        "df.isna().sum()"
      ],
      "metadata": {
        "colab": {
          "base_uri": "https://localhost:8080/"
        },
        "id": "RrTWH8RwkzD9",
        "outputId": "17510067-4230-467b-8fb0-ccf2d481f496"
      },
      "execution_count": 20,
      "outputs": [
        {
          "output_type": "execute_result",
          "data": {
            "text/plain": [
              "Date             0\n",
              "Open             0\n",
              "High             0\n",
              "Low              0\n",
              "Close            0\n",
              "                ..\n",
              "SnP(t-5)         0\n",
              "DJIA_Close       0\n",
              "DJIA(t-1))       0\n",
              "DJIA(t-5)        0\n",
              "Close_forcast    0\n",
              "Length: 64, dtype: int64"
            ]
          },
          "metadata": {},
          "execution_count": 20
        }
      ]
    },
    {
      "cell_type": "markdown",
      "source": [
        "This implies there are no null or missing values."
      ],
      "metadata": {
        "id": "gf9FvNL3o7Ma"
      }
    },
    {
      "cell_type": "code",
      "source": [
        "df.corr()['Close'].sort_values(ascending=False).head(10)"
      ],
      "metadata": {
        "colab": {
          "base_uri": "https://localhost:8080/"
        },
        "id": "2g3OMJK2k2GV",
        "outputId": "56089f83-3448-4969-c4fb-4ed268fb9fa3"
      },
      "execution_count": 21,
      "outputs": [
        {
          "output_type": "stream",
          "name": "stderr",
          "text": [
            "<ipython-input-21-68e71b9ad409>:1: FutureWarning: The default value of numeric_only in DataFrame.corr is deprecated. In a future version, it will default to False. Select only valid columns or specify the value of numeric_only to silence this warning.\n",
            "  df.corr()['Close'].sort_values(ascending=False).head(10)\n"
          ]
        },
        {
          "output_type": "execute_result",
          "data": {
            "text/plain": [
              "Close            1.000000\n",
              "Low              0.999851\n",
              "High             0.999836\n",
              "Open             0.999690\n",
              "EMA10            0.999629\n",
              "EMA200           0.999629\n",
              "EMA100           0.999629\n",
              "EMA50            0.999629\n",
              "EMA20            0.999629\n",
              "Close_forcast    0.999455\n",
              "Name: Close, dtype: float64"
            ]
          },
          "metadata": {},
          "execution_count": 21
        }
      ]
    },
    {
      "cell_type": "markdown",
      "source": [
        "#### **TRAIN TEST SPLIT**\n",
        "\n",
        "Close_forecast is the column that we are trying to predict here which is the price for the next day"
      ],
      "metadata": {
        "id": "Hf-oHPu9pEL1"
      }
    },
    {
      "cell_type": "code",
      "source": [
        "# Set the 'Date' column as the index\n",
        "df.set_index('Date', inplace=True)\n",
        "X = np.array(df.index).reshape(-1,1)\n",
        "# To create the NumPy array X from the index values of the dataframe df('Date')\n",
        "# df.index refers to the index values of the DataFrame df, which in this case are the dates.\n",
        "# np.array(df.index) converts the index values into a NumPy array.\n",
        "# .reshape(-1,1) is used to reshape the array. In this case, -1 indicates that the number of rows is unknown and will be inferred based on the number of elements in the array, while 1 indicates that there should be only one column.\n",
        "# By reshaping the array to have one column, we are preparing the data to be used as the independent variable (X) in the linear regression model. The X array will contain the dates, allowing us to train the model to predict the stock prices based on the corresponding dates\n",
        "y = df['Close_forcast']"
      ],
      "metadata": {
        "id": "LnK1ZXTUk5Nu"
      },
      "execution_count": 22,
      "outputs": []
    },
    {
      "cell_type": "code",
      "source": [
        "# Splitting the data into train and test set\n",
        "X_train,X_test,y_train,y_test = train_test_split(X,y,test_size=0.3,random_state=5)"
      ],
      "metadata": {
        "id": "MZcOqPV9k8x4"
      },
      "execution_count": 23,
      "outputs": []
    },
    {
      "cell_type": "code",
      "source": [
        "X.shape"
      ],
      "metadata": {
        "colab": {
          "base_uri": "https://localhost:8080/"
        },
        "id": "Ress2E6jlAp5",
        "outputId": "47553ca1-b963-4d7e-e78f-51f6278cbc87"
      },
      "execution_count": 24,
      "outputs": [
        {
          "output_type": "execute_result",
          "data": {
            "text/plain": [
              "(3229, 1)"
            ]
          },
          "metadata": {},
          "execution_count": 24
        }
      ]
    },
    {
      "cell_type": "code",
      "source": [
        "X_train.shape"
      ],
      "metadata": {
        "colab": {
          "base_uri": "https://localhost:8080/"
        },
        "id": "mrfKop4IlCOv",
        "outputId": "13638611-4a8b-4b9d-c9d8-95d4d25fefb8"
      },
      "execution_count": 25,
      "outputs": [
        {
          "output_type": "execute_result",
          "data": {
            "text/plain": [
              "(2260, 1)"
            ]
          },
          "metadata": {},
          "execution_count": 25
        }
      ]
    },
    {
      "cell_type": "code",
      "source": [
        "y_train.shape"
      ],
      "metadata": {
        "colab": {
          "base_uri": "https://localhost:8080/"
        },
        "id": "WkgikCnQlD5H",
        "outputId": "87578213-2377-49b9-fe6a-8218e6fa652e"
      },
      "execution_count": 26,
      "outputs": [
        {
          "output_type": "execute_result",
          "data": {
            "text/plain": [
              "(2260,)"
            ]
          },
          "metadata": {},
          "execution_count": 26
        }
      ]
    },
    {
      "cell_type": "code",
      "source": [
        "y_test.shape"
      ],
      "metadata": {
        "colab": {
          "base_uri": "https://localhost:8080/"
        },
        "id": "xJvbhgGclGqI",
        "outputId": "1e61647e-1bdd-4815-c32f-d3f838cadc26"
      },
      "execution_count": 27,
      "outputs": [
        {
          "output_type": "execute_result",
          "data": {
            "text/plain": [
              "(969,)"
            ]
          },
          "metadata": {},
          "execution_count": 27
        }
      ]
    },
    {
      "cell_type": "markdown",
      "source": [
        "**Scaling the train set features**"
      ],
      "metadata": {
        "id": "N1A08GompJRV"
      }
    },
    {
      "cell_type": "code",
      "source": [
        "mm = MinMaxScaler()\n",
        "ss = StandardScaler()\n",
        "\n",
        "#Feature Scaling -results in a feature set having normally distributed values\n",
        "ss.fit(X_train)"
      ],
      "metadata": {
        "colab": {
          "base_uri": "https://localhost:8080/",
          "height": 74
        },
        "id": "k_Dj1bIIlJDt",
        "outputId": "28064217-3138-426b-96bf-ed8764d85215"
      },
      "execution_count": 28,
      "outputs": [
        {
          "output_type": "execute_result",
          "data": {
            "text/plain": [
              "StandardScaler()"
            ],
            "text/html": [
              "<style>#sk-container-id-1 {color: black;background-color: white;}#sk-container-id-1 pre{padding: 0;}#sk-container-id-1 div.sk-toggleable {background-color: white;}#sk-container-id-1 label.sk-toggleable__label {cursor: pointer;display: block;width: 100%;margin-bottom: 0;padding: 0.3em;box-sizing: border-box;text-align: center;}#sk-container-id-1 label.sk-toggleable__label-arrow:before {content: \"▸\";float: left;margin-right: 0.25em;color: #696969;}#sk-container-id-1 label.sk-toggleable__label-arrow:hover:before {color: black;}#sk-container-id-1 div.sk-estimator:hover label.sk-toggleable__label-arrow:before {color: black;}#sk-container-id-1 div.sk-toggleable__content {max-height: 0;max-width: 0;overflow: hidden;text-align: left;background-color: #f0f8ff;}#sk-container-id-1 div.sk-toggleable__content pre {margin: 0.2em;color: black;border-radius: 0.25em;background-color: #f0f8ff;}#sk-container-id-1 input.sk-toggleable__control:checked~div.sk-toggleable__content {max-height: 200px;max-width: 100%;overflow: auto;}#sk-container-id-1 input.sk-toggleable__control:checked~label.sk-toggleable__label-arrow:before {content: \"▾\";}#sk-container-id-1 div.sk-estimator input.sk-toggleable__control:checked~label.sk-toggleable__label {background-color: #d4ebff;}#sk-container-id-1 div.sk-label input.sk-toggleable__control:checked~label.sk-toggleable__label {background-color: #d4ebff;}#sk-container-id-1 input.sk-hidden--visually {border: 0;clip: rect(1px 1px 1px 1px);clip: rect(1px, 1px, 1px, 1px);height: 1px;margin: -1px;overflow: hidden;padding: 0;position: absolute;width: 1px;}#sk-container-id-1 div.sk-estimator {font-family: monospace;background-color: #f0f8ff;border: 1px dotted black;border-radius: 0.25em;box-sizing: border-box;margin-bottom: 0.5em;}#sk-container-id-1 div.sk-estimator:hover {background-color: #d4ebff;}#sk-container-id-1 div.sk-parallel-item::after {content: \"\";width: 100%;border-bottom: 1px solid gray;flex-grow: 1;}#sk-container-id-1 div.sk-label:hover label.sk-toggleable__label {background-color: #d4ebff;}#sk-container-id-1 div.sk-serial::before {content: \"\";position: absolute;border-left: 1px solid gray;box-sizing: border-box;top: 0;bottom: 0;left: 50%;z-index: 0;}#sk-container-id-1 div.sk-serial {display: flex;flex-direction: column;align-items: center;background-color: white;padding-right: 0.2em;padding-left: 0.2em;position: relative;}#sk-container-id-1 div.sk-item {position: relative;z-index: 1;}#sk-container-id-1 div.sk-parallel {display: flex;align-items: stretch;justify-content: center;background-color: white;position: relative;}#sk-container-id-1 div.sk-item::before, #sk-container-id-1 div.sk-parallel-item::before {content: \"\";position: absolute;border-left: 1px solid gray;box-sizing: border-box;top: 0;bottom: 0;left: 50%;z-index: -1;}#sk-container-id-1 div.sk-parallel-item {display: flex;flex-direction: column;z-index: 1;position: relative;background-color: white;}#sk-container-id-1 div.sk-parallel-item:first-child::after {align-self: flex-end;width: 50%;}#sk-container-id-1 div.sk-parallel-item:last-child::after {align-self: flex-start;width: 50%;}#sk-container-id-1 div.sk-parallel-item:only-child::after {width: 0;}#sk-container-id-1 div.sk-dashed-wrapped {border: 1px dashed gray;margin: 0 0.4em 0.5em 0.4em;box-sizing: border-box;padding-bottom: 0.4em;background-color: white;}#sk-container-id-1 div.sk-label label {font-family: monospace;font-weight: bold;display: inline-block;line-height: 1.2em;}#sk-container-id-1 div.sk-label-container {text-align: center;}#sk-container-id-1 div.sk-container {/* jupyter's `normalize.less` sets `[hidden] { display: none; }` but bootstrap.min.css set `[hidden] { display: none !important; }` so we also need the `!important` here to be able to override the default hidden behavior on the sphinx rendered scikit-learn.org. See: https://github.com/scikit-learn/scikit-learn/issues/21755 */display: inline-block !important;position: relative;}#sk-container-id-1 div.sk-text-repr-fallback {display: none;}</style><div id=\"sk-container-id-1\" class=\"sk-top-container\"><div class=\"sk-text-repr-fallback\"><pre>StandardScaler()</pre><b>In a Jupyter environment, please rerun this cell to show the HTML representation or trust the notebook. <br />On GitHub, the HTML representation is unable to render, please try loading this page with nbviewer.org.</b></div><div class=\"sk-container\" hidden><div class=\"sk-item\"><div class=\"sk-estimator sk-toggleable\"><input class=\"sk-toggleable__control sk-hidden--visually\" id=\"sk-estimator-id-1\" type=\"checkbox\" checked><label for=\"sk-estimator-id-1\" class=\"sk-toggleable__label sk-toggleable__label-arrow\">StandardScaler</label><div class=\"sk-toggleable__content\"><pre>StandardScaler()</pre></div></div></div></div></div>"
            ]
          },
          "metadata": {},
          "execution_count": 28
        }
      ]
    },
    {
      "cell_type": "markdown",
      "source": [
        "**BUILDING LINEAR REGRESSION MODEL**"
      ],
      "metadata": {
        "id": "L6H0tqiIpNiF"
      }
    },
    {
      "cell_type": "code",
      "source": [
        "# Creating an instance of the LinearRegression class and training it\n",
        "lr = LinearRegression()\n",
        "lr.fit(X_train,y_train)\n",
        "# y_pred = lr.predict(X_test)"
      ],
      "metadata": {
        "colab": {
          "base_uri": "https://localhost:8080/",
          "height": 74
        },
        "id": "8ZxSiWe2lNof",
        "outputId": "dc568674-d15d-49ab-97a8-df71b8159240"
      },
      "execution_count": 29,
      "outputs": [
        {
          "output_type": "execute_result",
          "data": {
            "text/plain": [
              "LinearRegression()"
            ],
            "text/html": [
              "<style>#sk-container-id-2 {color: black;background-color: white;}#sk-container-id-2 pre{padding: 0;}#sk-container-id-2 div.sk-toggleable {background-color: white;}#sk-container-id-2 label.sk-toggleable__label {cursor: pointer;display: block;width: 100%;margin-bottom: 0;padding: 0.3em;box-sizing: border-box;text-align: center;}#sk-container-id-2 label.sk-toggleable__label-arrow:before {content: \"▸\";float: left;margin-right: 0.25em;color: #696969;}#sk-container-id-2 label.sk-toggleable__label-arrow:hover:before {color: black;}#sk-container-id-2 div.sk-estimator:hover label.sk-toggleable__label-arrow:before {color: black;}#sk-container-id-2 div.sk-toggleable__content {max-height: 0;max-width: 0;overflow: hidden;text-align: left;background-color: #f0f8ff;}#sk-container-id-2 div.sk-toggleable__content pre {margin: 0.2em;color: black;border-radius: 0.25em;background-color: #f0f8ff;}#sk-container-id-2 input.sk-toggleable__control:checked~div.sk-toggleable__content {max-height: 200px;max-width: 100%;overflow: auto;}#sk-container-id-2 input.sk-toggleable__control:checked~label.sk-toggleable__label-arrow:before {content: \"▾\";}#sk-container-id-2 div.sk-estimator input.sk-toggleable__control:checked~label.sk-toggleable__label {background-color: #d4ebff;}#sk-container-id-2 div.sk-label input.sk-toggleable__control:checked~label.sk-toggleable__label {background-color: #d4ebff;}#sk-container-id-2 input.sk-hidden--visually {border: 0;clip: rect(1px 1px 1px 1px);clip: rect(1px, 1px, 1px, 1px);height: 1px;margin: -1px;overflow: hidden;padding: 0;position: absolute;width: 1px;}#sk-container-id-2 div.sk-estimator {font-family: monospace;background-color: #f0f8ff;border: 1px dotted black;border-radius: 0.25em;box-sizing: border-box;margin-bottom: 0.5em;}#sk-container-id-2 div.sk-estimator:hover {background-color: #d4ebff;}#sk-container-id-2 div.sk-parallel-item::after {content: \"\";width: 100%;border-bottom: 1px solid gray;flex-grow: 1;}#sk-container-id-2 div.sk-label:hover label.sk-toggleable__label {background-color: #d4ebff;}#sk-container-id-2 div.sk-serial::before {content: \"\";position: absolute;border-left: 1px solid gray;box-sizing: border-box;top: 0;bottom: 0;left: 50%;z-index: 0;}#sk-container-id-2 div.sk-serial {display: flex;flex-direction: column;align-items: center;background-color: white;padding-right: 0.2em;padding-left: 0.2em;position: relative;}#sk-container-id-2 div.sk-item {position: relative;z-index: 1;}#sk-container-id-2 div.sk-parallel {display: flex;align-items: stretch;justify-content: center;background-color: white;position: relative;}#sk-container-id-2 div.sk-item::before, #sk-container-id-2 div.sk-parallel-item::before {content: \"\";position: absolute;border-left: 1px solid gray;box-sizing: border-box;top: 0;bottom: 0;left: 50%;z-index: -1;}#sk-container-id-2 div.sk-parallel-item {display: flex;flex-direction: column;z-index: 1;position: relative;background-color: white;}#sk-container-id-2 div.sk-parallel-item:first-child::after {align-self: flex-end;width: 50%;}#sk-container-id-2 div.sk-parallel-item:last-child::after {align-self: flex-start;width: 50%;}#sk-container-id-2 div.sk-parallel-item:only-child::after {width: 0;}#sk-container-id-2 div.sk-dashed-wrapped {border: 1px dashed gray;margin: 0 0.4em 0.5em 0.4em;box-sizing: border-box;padding-bottom: 0.4em;background-color: white;}#sk-container-id-2 div.sk-label label {font-family: monospace;font-weight: bold;display: inline-block;line-height: 1.2em;}#sk-container-id-2 div.sk-label-container {text-align: center;}#sk-container-id-2 div.sk-container {/* jupyter's `normalize.less` sets `[hidden] { display: none; }` but bootstrap.min.css set `[hidden] { display: none !important; }` so we also need the `!important` here to be able to override the default hidden behavior on the sphinx rendered scikit-learn.org. See: https://github.com/scikit-learn/scikit-learn/issues/21755 */display: inline-block !important;position: relative;}#sk-container-id-2 div.sk-text-repr-fallback {display: none;}</style><div id=\"sk-container-id-2\" class=\"sk-top-container\"><div class=\"sk-text-repr-fallback\"><pre>LinearRegression()</pre><b>In a Jupyter environment, please rerun this cell to show the HTML representation or trust the notebook. <br />On GitHub, the HTML representation is unable to render, please try loading this page with nbviewer.org.</b></div><div class=\"sk-container\" hidden><div class=\"sk-item\"><div class=\"sk-estimator sk-toggleable\"><input class=\"sk-toggleable__control sk-hidden--visually\" id=\"sk-estimator-id-2\" type=\"checkbox\" checked><label for=\"sk-estimator-id-2\" class=\"sk-toggleable__label sk-toggleable__label-arrow\">LinearRegression</label><div class=\"sk-toggleable__content\"><pre>LinearRegression()</pre></div></div></div></div></div>"
            ]
          },
          "metadata": {},
          "execution_count": 29
        }
      ]
    },
    {
      "cell_type": "markdown",
      "source": [
        "**PREDICTION USING LINEAR REGRESSION**"
      ],
      "metadata": {
        "id": "yBXtFExEpRfD"
      }
    },
    {
      "cell_type": "code",
      "source": [
        "type(X_test)"
      ],
      "metadata": {
        "colab": {
          "base_uri": "https://localhost:8080/"
        },
        "id": "MsDWtyhslSH9",
        "outputId": "18dae662-ac8c-49c0-d40d-27bf27306626"
      },
      "execution_count": 30,
      "outputs": [
        {
          "output_type": "execute_result",
          "data": {
            "text/plain": [
              "numpy.ndarray"
            ]
          },
          "metadata": {},
          "execution_count": 30
        }
      ]
    },
    {
      "cell_type": "code",
      "source": [
        "# Predict the stock prices\n",
        "X_test = X_test.astype(float)\n",
        "y_pred = lr.predict(X_test)"
      ],
      "metadata": {
        "id": "LCyvisZHlUg5"
      },
      "execution_count": 31,
      "outputs": []
    },
    {
      "cell_type": "code",
      "source": [
        "y_test"
      ],
      "metadata": {
        "colab": {
          "base_uri": "https://localhost:8080/"
        },
        "id": "08Tkr9BilYpV",
        "outputId": "75211a9b-ffd5-4d28-bada-febc5aa18df4"
      },
      "execution_count": 32,
      "outputs": [
        {
          "output_type": "execute_result",
          "data": {
            "text/plain": [
              "Date\n",
              "2019-08-16    1200.44\n",
              "2009-11-12     286.31\n",
              "2017-07-26     952.51\n",
              "2013-07-19     455.81\n",
              "2010-11-15     292.15\n",
              "               ...   \n",
              "2010-03-29     283.64\n",
              "2018-08-23    1236.75\n",
              "2015-01-22     541.95\n",
              "2010-08-20     232.27\n",
              "2008-04-16     224.99\n",
              "Name: Close_forcast, Length: 969, dtype: float64"
            ]
          },
          "metadata": {},
          "execution_count": 32
        }
      ]
    },
    {
      "cell_type": "code",
      "source": [
        "y_pred_df = pd.DataFrame(y_pred)\n",
        "y_pred_df"
      ],
      "metadata": {
        "colab": {
          "base_uri": "https://localhost:8080/",
          "height": 423
        },
        "id": "IJyu4vVIldXu",
        "outputId": "4f476d5b-9d09-44bd-8ef0-b9179737a5f3"
      },
      "execution_count": 33,
      "outputs": [
        {
          "output_type": "execute_result",
          "data": {
            "text/plain": [
              "               0\n",
              "0    1130.664747\n",
              "1     200.940369\n",
              "2     934.754812\n",
              "3     551.804367\n",
              "4     296.938845\n",
              "..           ...\n",
              "964   236.678932\n",
              "965  1037.274924\n",
              "966   695.802082\n",
              "967   274.243553\n",
              "968    50.942749\n",
              "\n",
              "[969 rows x 1 columns]"
            ],
            "text/html": [
              "\n",
              "  <div id=\"df-2811aa2c-1a67-4788-9030-9a5f360b50ae\" class=\"colab-df-container\">\n",
              "    <div>\n",
              "<style scoped>\n",
              "    .dataframe tbody tr th:only-of-type {\n",
              "        vertical-align: middle;\n",
              "    }\n",
              "\n",
              "    .dataframe tbody tr th {\n",
              "        vertical-align: top;\n",
              "    }\n",
              "\n",
              "    .dataframe thead th {\n",
              "        text-align: right;\n",
              "    }\n",
              "</style>\n",
              "<table border=\"1\" class=\"dataframe\">\n",
              "  <thead>\n",
              "    <tr style=\"text-align: right;\">\n",
              "      <th></th>\n",
              "      <th>0</th>\n",
              "    </tr>\n",
              "  </thead>\n",
              "  <tbody>\n",
              "    <tr>\n",
              "      <th>0</th>\n",
              "      <td>1130.664747</td>\n",
              "    </tr>\n",
              "    <tr>\n",
              "      <th>1</th>\n",
              "      <td>200.940369</td>\n",
              "    </tr>\n",
              "    <tr>\n",
              "      <th>2</th>\n",
              "      <td>934.754812</td>\n",
              "    </tr>\n",
              "    <tr>\n",
              "      <th>3</th>\n",
              "      <td>551.804367</td>\n",
              "    </tr>\n",
              "    <tr>\n",
              "      <th>4</th>\n",
              "      <td>296.938845</td>\n",
              "    </tr>\n",
              "    <tr>\n",
              "      <th>...</th>\n",
              "      <td>...</td>\n",
              "    </tr>\n",
              "    <tr>\n",
              "      <th>964</th>\n",
              "      <td>236.678932</td>\n",
              "    </tr>\n",
              "    <tr>\n",
              "      <th>965</th>\n",
              "      <td>1037.274924</td>\n",
              "    </tr>\n",
              "    <tr>\n",
              "      <th>966</th>\n",
              "      <td>695.802082</td>\n",
              "    </tr>\n",
              "    <tr>\n",
              "      <th>967</th>\n",
              "      <td>274.243553</td>\n",
              "    </tr>\n",
              "    <tr>\n",
              "      <th>968</th>\n",
              "      <td>50.942749</td>\n",
              "    </tr>\n",
              "  </tbody>\n",
              "</table>\n",
              "<p>969 rows × 1 columns</p>\n",
              "</div>\n",
              "    <div class=\"colab-df-buttons\">\n",
              "\n",
              "  <div class=\"colab-df-container\">\n",
              "    <button class=\"colab-df-convert\" onclick=\"convertToInteractive('df-2811aa2c-1a67-4788-9030-9a5f360b50ae')\"\n",
              "            title=\"Convert this dataframe to an interactive table.\"\n",
              "            style=\"display:none;\">\n",
              "\n",
              "  <svg xmlns=\"http://www.w3.org/2000/svg\" height=\"24px\" viewBox=\"0 -960 960 960\">\n",
              "    <path d=\"M120-120v-720h720v720H120Zm60-500h600v-160H180v160Zm220 220h160v-160H400v160Zm0 220h160v-160H400v160ZM180-400h160v-160H180v160Zm440 0h160v-160H620v160ZM180-180h160v-160H180v160Zm440 0h160v-160H620v160Z\"/>\n",
              "  </svg>\n",
              "    </button>\n",
              "\n",
              "  <style>\n",
              "    .colab-df-container {\n",
              "      display:flex;\n",
              "      gap: 12px;\n",
              "    }\n",
              "\n",
              "    .colab-df-convert {\n",
              "      background-color: #E8F0FE;\n",
              "      border: none;\n",
              "      border-radius: 50%;\n",
              "      cursor: pointer;\n",
              "      display: none;\n",
              "      fill: #1967D2;\n",
              "      height: 32px;\n",
              "      padding: 0 0 0 0;\n",
              "      width: 32px;\n",
              "    }\n",
              "\n",
              "    .colab-df-convert:hover {\n",
              "      background-color: #E2EBFA;\n",
              "      box-shadow: 0px 1px 2px rgba(60, 64, 67, 0.3), 0px 1px 3px 1px rgba(60, 64, 67, 0.15);\n",
              "      fill: #174EA6;\n",
              "    }\n",
              "\n",
              "    .colab-df-buttons div {\n",
              "      margin-bottom: 4px;\n",
              "    }\n",
              "\n",
              "    [theme=dark] .colab-df-convert {\n",
              "      background-color: #3B4455;\n",
              "      fill: #D2E3FC;\n",
              "    }\n",
              "\n",
              "    [theme=dark] .colab-df-convert:hover {\n",
              "      background-color: #434B5C;\n",
              "      box-shadow: 0px 1px 3px 1px rgba(0, 0, 0, 0.15);\n",
              "      filter: drop-shadow(0px 1px 2px rgba(0, 0, 0, 0.3));\n",
              "      fill: #FFFFFF;\n",
              "    }\n",
              "  </style>\n",
              "\n",
              "    <script>\n",
              "      const buttonEl =\n",
              "        document.querySelector('#df-2811aa2c-1a67-4788-9030-9a5f360b50ae button.colab-df-convert');\n",
              "      buttonEl.style.display =\n",
              "        google.colab.kernel.accessAllowed ? 'block' : 'none';\n",
              "\n",
              "      async function convertToInteractive(key) {\n",
              "        const element = document.querySelector('#df-2811aa2c-1a67-4788-9030-9a5f360b50ae');\n",
              "        const dataTable =\n",
              "          await google.colab.kernel.invokeFunction('convertToInteractive',\n",
              "                                                    [key], {});\n",
              "        if (!dataTable) return;\n",
              "\n",
              "        const docLinkHtml = 'Like what you see? Visit the ' +\n",
              "          '<a target=\"_blank\" href=https://colab.research.google.com/notebooks/data_table.ipynb>data table notebook</a>'\n",
              "          + ' to learn more about interactive tables.';\n",
              "        element.innerHTML = '';\n",
              "        dataTable['output_type'] = 'display_data';\n",
              "        await google.colab.output.renderOutput(dataTable, element);\n",
              "        const docLink = document.createElement('div');\n",
              "        docLink.innerHTML = docLinkHtml;\n",
              "        element.appendChild(docLink);\n",
              "      }\n",
              "    </script>\n",
              "  </div>\n",
              "\n",
              "\n",
              "<div id=\"df-dd1f1669-802b-4760-8349-724af6d368b7\">\n",
              "  <button class=\"colab-df-quickchart\" onclick=\"quickchart('df-dd1f1669-802b-4760-8349-724af6d368b7')\"\n",
              "            title=\"Suggest charts.\"\n",
              "            style=\"display:none;\">\n",
              "\n",
              "<svg xmlns=\"http://www.w3.org/2000/svg\" height=\"24px\"viewBox=\"0 0 24 24\"\n",
              "     width=\"24px\">\n",
              "    <g>\n",
              "        <path d=\"M19 3H5c-1.1 0-2 .9-2 2v14c0 1.1.9 2 2 2h14c1.1 0 2-.9 2-2V5c0-1.1-.9-2-2-2zM9 17H7v-7h2v7zm4 0h-2V7h2v10zm4 0h-2v-4h2v4z\"/>\n",
              "    </g>\n",
              "</svg>\n",
              "  </button>\n",
              "\n",
              "<style>\n",
              "  .colab-df-quickchart {\n",
              "    background-color: #E8F0FE;\n",
              "    border: none;\n",
              "    border-radius: 50%;\n",
              "    cursor: pointer;\n",
              "    display: none;\n",
              "    fill: #1967D2;\n",
              "    height: 32px;\n",
              "    padding: 0 0 0 0;\n",
              "    width: 32px;\n",
              "  }\n",
              "\n",
              "  .colab-df-quickchart:hover {\n",
              "    background-color: #E2EBFA;\n",
              "    box-shadow: 0px 1px 2px rgba(60, 64, 67, 0.3), 0px 1px 3px 1px rgba(60, 64, 67, 0.15);\n",
              "    fill: #174EA6;\n",
              "  }\n",
              "\n",
              "  [theme=dark] .colab-df-quickchart {\n",
              "    background-color: #3B4455;\n",
              "    fill: #D2E3FC;\n",
              "  }\n",
              "\n",
              "  [theme=dark] .colab-df-quickchart:hover {\n",
              "    background-color: #434B5C;\n",
              "    box-shadow: 0px 1px 3px 1px rgba(0, 0, 0, 0.15);\n",
              "    filter: drop-shadow(0px 1px 2px rgba(0, 0, 0, 0.3));\n",
              "    fill: #FFFFFF;\n",
              "  }\n",
              "</style>\n",
              "\n",
              "  <script>\n",
              "    async function quickchart(key) {\n",
              "      const charts = await google.colab.kernel.invokeFunction(\n",
              "          'suggestCharts', [key], {});\n",
              "    }\n",
              "    (() => {\n",
              "      let quickchartButtonEl =\n",
              "        document.querySelector('#df-dd1f1669-802b-4760-8349-724af6d368b7 button');\n",
              "      quickchartButtonEl.style.display =\n",
              "        google.colab.kernel.accessAllowed ? 'block' : 'none';\n",
              "    })();\n",
              "  </script>\n",
              "</div>\n",
              "    </div>\n",
              "  </div>\n"
            ]
          },
          "metadata": {},
          "execution_count": 33
        }
      ]
    },
    {
      "cell_type": "code",
      "source": [
        "y_test_df=pd.DataFrame(y_test)\n",
        "y_test_df"
      ],
      "metadata": {
        "colab": {
          "base_uri": "https://localhost:8080/",
          "height": 455
        },
        "id": "Sk2V4Rk1le0f",
        "outputId": "8f01c566-bec5-49d9-9112-42d09b8d63d3"
      },
      "execution_count": 34,
      "outputs": [
        {
          "output_type": "execute_result",
          "data": {
            "text/plain": [
              "            Close_forcast\n",
              "Date                     \n",
              "2019-08-16        1200.44\n",
              "2009-11-12         286.31\n",
              "2017-07-26         952.51\n",
              "2013-07-19         455.81\n",
              "2010-11-15         292.15\n",
              "...                   ...\n",
              "2010-03-29         283.64\n",
              "2018-08-23        1236.75\n",
              "2015-01-22         541.95\n",
              "2010-08-20         232.27\n",
              "2008-04-16         224.99\n",
              "\n",
              "[969 rows x 1 columns]"
            ],
            "text/html": [
              "\n",
              "  <div id=\"df-d39c7002-a73f-46e1-b756-489c29ec27e9\" class=\"colab-df-container\">\n",
              "    <div>\n",
              "<style scoped>\n",
              "    .dataframe tbody tr th:only-of-type {\n",
              "        vertical-align: middle;\n",
              "    }\n",
              "\n",
              "    .dataframe tbody tr th {\n",
              "        vertical-align: top;\n",
              "    }\n",
              "\n",
              "    .dataframe thead th {\n",
              "        text-align: right;\n",
              "    }\n",
              "</style>\n",
              "<table border=\"1\" class=\"dataframe\">\n",
              "  <thead>\n",
              "    <tr style=\"text-align: right;\">\n",
              "      <th></th>\n",
              "      <th>Close_forcast</th>\n",
              "    </tr>\n",
              "    <tr>\n",
              "      <th>Date</th>\n",
              "      <th></th>\n",
              "    </tr>\n",
              "  </thead>\n",
              "  <tbody>\n",
              "    <tr>\n",
              "      <th>2019-08-16</th>\n",
              "      <td>1200.44</td>\n",
              "    </tr>\n",
              "    <tr>\n",
              "      <th>2009-11-12</th>\n",
              "      <td>286.31</td>\n",
              "    </tr>\n",
              "    <tr>\n",
              "      <th>2017-07-26</th>\n",
              "      <td>952.51</td>\n",
              "    </tr>\n",
              "    <tr>\n",
              "      <th>2013-07-19</th>\n",
              "      <td>455.81</td>\n",
              "    </tr>\n",
              "    <tr>\n",
              "      <th>2010-11-15</th>\n",
              "      <td>292.15</td>\n",
              "    </tr>\n",
              "    <tr>\n",
              "      <th>...</th>\n",
              "      <td>...</td>\n",
              "    </tr>\n",
              "    <tr>\n",
              "      <th>2010-03-29</th>\n",
              "      <td>283.64</td>\n",
              "    </tr>\n",
              "    <tr>\n",
              "      <th>2018-08-23</th>\n",
              "      <td>1236.75</td>\n",
              "    </tr>\n",
              "    <tr>\n",
              "      <th>2015-01-22</th>\n",
              "      <td>541.95</td>\n",
              "    </tr>\n",
              "    <tr>\n",
              "      <th>2010-08-20</th>\n",
              "      <td>232.27</td>\n",
              "    </tr>\n",
              "    <tr>\n",
              "      <th>2008-04-16</th>\n",
              "      <td>224.99</td>\n",
              "    </tr>\n",
              "  </tbody>\n",
              "</table>\n",
              "<p>969 rows × 1 columns</p>\n",
              "</div>\n",
              "    <div class=\"colab-df-buttons\">\n",
              "\n",
              "  <div class=\"colab-df-container\">\n",
              "    <button class=\"colab-df-convert\" onclick=\"convertToInteractive('df-d39c7002-a73f-46e1-b756-489c29ec27e9')\"\n",
              "            title=\"Convert this dataframe to an interactive table.\"\n",
              "            style=\"display:none;\">\n",
              "\n",
              "  <svg xmlns=\"http://www.w3.org/2000/svg\" height=\"24px\" viewBox=\"0 -960 960 960\">\n",
              "    <path d=\"M120-120v-720h720v720H120Zm60-500h600v-160H180v160Zm220 220h160v-160H400v160Zm0 220h160v-160H400v160ZM180-400h160v-160H180v160Zm440 0h160v-160H620v160ZM180-180h160v-160H180v160Zm440 0h160v-160H620v160Z\"/>\n",
              "  </svg>\n",
              "    </button>\n",
              "\n",
              "  <style>\n",
              "    .colab-df-container {\n",
              "      display:flex;\n",
              "      gap: 12px;\n",
              "    }\n",
              "\n",
              "    .colab-df-convert {\n",
              "      background-color: #E8F0FE;\n",
              "      border: none;\n",
              "      border-radius: 50%;\n",
              "      cursor: pointer;\n",
              "      display: none;\n",
              "      fill: #1967D2;\n",
              "      height: 32px;\n",
              "      padding: 0 0 0 0;\n",
              "      width: 32px;\n",
              "    }\n",
              "\n",
              "    .colab-df-convert:hover {\n",
              "      background-color: #E2EBFA;\n",
              "      box-shadow: 0px 1px 2px rgba(60, 64, 67, 0.3), 0px 1px 3px 1px rgba(60, 64, 67, 0.15);\n",
              "      fill: #174EA6;\n",
              "    }\n",
              "\n",
              "    .colab-df-buttons div {\n",
              "      margin-bottom: 4px;\n",
              "    }\n",
              "\n",
              "    [theme=dark] .colab-df-convert {\n",
              "      background-color: #3B4455;\n",
              "      fill: #D2E3FC;\n",
              "    }\n",
              "\n",
              "    [theme=dark] .colab-df-convert:hover {\n",
              "      background-color: #434B5C;\n",
              "      box-shadow: 0px 1px 3px 1px rgba(0, 0, 0, 0.15);\n",
              "      filter: drop-shadow(0px 1px 2px rgba(0, 0, 0, 0.3));\n",
              "      fill: #FFFFFF;\n",
              "    }\n",
              "  </style>\n",
              "\n",
              "    <script>\n",
              "      const buttonEl =\n",
              "        document.querySelector('#df-d39c7002-a73f-46e1-b756-489c29ec27e9 button.colab-df-convert');\n",
              "      buttonEl.style.display =\n",
              "        google.colab.kernel.accessAllowed ? 'block' : 'none';\n",
              "\n",
              "      async function convertToInteractive(key) {\n",
              "        const element = document.querySelector('#df-d39c7002-a73f-46e1-b756-489c29ec27e9');\n",
              "        const dataTable =\n",
              "          await google.colab.kernel.invokeFunction('convertToInteractive',\n",
              "                                                    [key], {});\n",
              "        if (!dataTable) return;\n",
              "\n",
              "        const docLinkHtml = 'Like what you see? Visit the ' +\n",
              "          '<a target=\"_blank\" href=https://colab.research.google.com/notebooks/data_table.ipynb>data table notebook</a>'\n",
              "          + ' to learn more about interactive tables.';\n",
              "        element.innerHTML = '';\n",
              "        dataTable['output_type'] = 'display_data';\n",
              "        await google.colab.output.renderOutput(dataTable, element);\n",
              "        const docLink = document.createElement('div');\n",
              "        docLink.innerHTML = docLinkHtml;\n",
              "        element.appendChild(docLink);\n",
              "      }\n",
              "    </script>\n",
              "  </div>\n",
              "\n",
              "\n",
              "<div id=\"df-769dd71c-fc5a-414d-9c90-02e459c58d25\">\n",
              "  <button class=\"colab-df-quickchart\" onclick=\"quickchart('df-769dd71c-fc5a-414d-9c90-02e459c58d25')\"\n",
              "            title=\"Suggest charts.\"\n",
              "            style=\"display:none;\">\n",
              "\n",
              "<svg xmlns=\"http://www.w3.org/2000/svg\" height=\"24px\"viewBox=\"0 0 24 24\"\n",
              "     width=\"24px\">\n",
              "    <g>\n",
              "        <path d=\"M19 3H5c-1.1 0-2 .9-2 2v14c0 1.1.9 2 2 2h14c1.1 0 2-.9 2-2V5c0-1.1-.9-2-2-2zM9 17H7v-7h2v7zm4 0h-2V7h2v10zm4 0h-2v-4h2v4z\"/>\n",
              "    </g>\n",
              "</svg>\n",
              "  </button>\n",
              "\n",
              "<style>\n",
              "  .colab-df-quickchart {\n",
              "    background-color: #E8F0FE;\n",
              "    border: none;\n",
              "    border-radius: 50%;\n",
              "    cursor: pointer;\n",
              "    display: none;\n",
              "    fill: #1967D2;\n",
              "    height: 32px;\n",
              "    padding: 0 0 0 0;\n",
              "    width: 32px;\n",
              "  }\n",
              "\n",
              "  .colab-df-quickchart:hover {\n",
              "    background-color: #E2EBFA;\n",
              "    box-shadow: 0px 1px 2px rgba(60, 64, 67, 0.3), 0px 1px 3px 1px rgba(60, 64, 67, 0.15);\n",
              "    fill: #174EA6;\n",
              "  }\n",
              "\n",
              "  [theme=dark] .colab-df-quickchart {\n",
              "    background-color: #3B4455;\n",
              "    fill: #D2E3FC;\n",
              "  }\n",
              "\n",
              "  [theme=dark] .colab-df-quickchart:hover {\n",
              "    background-color: #434B5C;\n",
              "    box-shadow: 0px 1px 3px 1px rgba(0, 0, 0, 0.15);\n",
              "    filter: drop-shadow(0px 1px 2px rgba(0, 0, 0, 0.3));\n",
              "    fill: #FFFFFF;\n",
              "  }\n",
              "</style>\n",
              "\n",
              "  <script>\n",
              "    async function quickchart(key) {\n",
              "      const charts = await google.colab.kernel.invokeFunction(\n",
              "          'suggestCharts', [key], {});\n",
              "    }\n",
              "    (() => {\n",
              "      let quickchartButtonEl =\n",
              "        document.querySelector('#df-769dd71c-fc5a-414d-9c90-02e459c58d25 button');\n",
              "      quickchartButtonEl.style.display =\n",
              "        google.colab.kernel.accessAllowed ? 'block' : 'none';\n",
              "    })();\n",
              "  </script>\n",
              "</div>\n",
              "    </div>\n",
              "  </div>\n"
            ]
          },
          "metadata": {},
          "execution_count": 34
        }
      ]
    },
    {
      "cell_type": "code",
      "source": [
        "# Create a new DataFrame for visualization\n",
        "df_pred = pd.DataFrame({'Actual': y_test_df['Close_forcast'], 'Predicted': y_pred}, index=y_test.index)"
      ],
      "metadata": {
        "id": "AmTlzZR-lg0O"
      },
      "execution_count": 35,
      "outputs": []
    },
    {
      "cell_type": "code",
      "source": [
        "df_pred = df_pred.reset_index()\n",
        "df_pred"
      ],
      "metadata": {
        "colab": {
          "base_uri": "https://localhost:8080/",
          "height": 423
        },
        "id": "vim36-b9ljVW",
        "outputId": "4e559d4f-af24-4250-8224-dcfddffbd914"
      },
      "execution_count": 36,
      "outputs": [
        {
          "output_type": "execute_result",
          "data": {
            "text/plain": [
              "          Date   Actual    Predicted\n",
              "0   2019-08-16  1200.44  1130.664747\n",
              "1   2009-11-12   286.31   200.940369\n",
              "2   2017-07-26   952.51   934.754812\n",
              "3   2013-07-19   455.81   551.804367\n",
              "4   2010-11-15   292.15   296.938845\n",
              "..         ...      ...          ...\n",
              "964 2010-03-29   283.64   236.678932\n",
              "965 2018-08-23  1236.75  1037.274924\n",
              "966 2015-01-22   541.95   695.802082\n",
              "967 2010-08-20   232.27   274.243553\n",
              "968 2008-04-16   224.99    50.942749\n",
              "\n",
              "[969 rows x 3 columns]"
            ],
            "text/html": [
              "\n",
              "  <div id=\"df-dfd476ae-73ed-4125-b00a-7d3c823d6ed3\" class=\"colab-df-container\">\n",
              "    <div>\n",
              "<style scoped>\n",
              "    .dataframe tbody tr th:only-of-type {\n",
              "        vertical-align: middle;\n",
              "    }\n",
              "\n",
              "    .dataframe tbody tr th {\n",
              "        vertical-align: top;\n",
              "    }\n",
              "\n",
              "    .dataframe thead th {\n",
              "        text-align: right;\n",
              "    }\n",
              "</style>\n",
              "<table border=\"1\" class=\"dataframe\">\n",
              "  <thead>\n",
              "    <tr style=\"text-align: right;\">\n",
              "      <th></th>\n",
              "      <th>Date</th>\n",
              "      <th>Actual</th>\n",
              "      <th>Predicted</th>\n",
              "    </tr>\n",
              "  </thead>\n",
              "  <tbody>\n",
              "    <tr>\n",
              "      <th>0</th>\n",
              "      <td>2019-08-16</td>\n",
              "      <td>1200.44</td>\n",
              "      <td>1130.664747</td>\n",
              "    </tr>\n",
              "    <tr>\n",
              "      <th>1</th>\n",
              "      <td>2009-11-12</td>\n",
              "      <td>286.31</td>\n",
              "      <td>200.940369</td>\n",
              "    </tr>\n",
              "    <tr>\n",
              "      <th>2</th>\n",
              "      <td>2017-07-26</td>\n",
              "      <td>952.51</td>\n",
              "      <td>934.754812</td>\n",
              "    </tr>\n",
              "    <tr>\n",
              "      <th>3</th>\n",
              "      <td>2013-07-19</td>\n",
              "      <td>455.81</td>\n",
              "      <td>551.804367</td>\n",
              "    </tr>\n",
              "    <tr>\n",
              "      <th>4</th>\n",
              "      <td>2010-11-15</td>\n",
              "      <td>292.15</td>\n",
              "      <td>296.938845</td>\n",
              "    </tr>\n",
              "    <tr>\n",
              "      <th>...</th>\n",
              "      <td>...</td>\n",
              "      <td>...</td>\n",
              "      <td>...</td>\n",
              "    </tr>\n",
              "    <tr>\n",
              "      <th>964</th>\n",
              "      <td>2010-03-29</td>\n",
              "      <td>283.64</td>\n",
              "      <td>236.678932</td>\n",
              "    </tr>\n",
              "    <tr>\n",
              "      <th>965</th>\n",
              "      <td>2018-08-23</td>\n",
              "      <td>1236.75</td>\n",
              "      <td>1037.274924</td>\n",
              "    </tr>\n",
              "    <tr>\n",
              "      <th>966</th>\n",
              "      <td>2015-01-22</td>\n",
              "      <td>541.95</td>\n",
              "      <td>695.802082</td>\n",
              "    </tr>\n",
              "    <tr>\n",
              "      <th>967</th>\n",
              "      <td>2010-08-20</td>\n",
              "      <td>232.27</td>\n",
              "      <td>274.243553</td>\n",
              "    </tr>\n",
              "    <tr>\n",
              "      <th>968</th>\n",
              "      <td>2008-04-16</td>\n",
              "      <td>224.99</td>\n",
              "      <td>50.942749</td>\n",
              "    </tr>\n",
              "  </tbody>\n",
              "</table>\n",
              "<p>969 rows × 3 columns</p>\n",
              "</div>\n",
              "    <div class=\"colab-df-buttons\">\n",
              "\n",
              "  <div class=\"colab-df-container\">\n",
              "    <button class=\"colab-df-convert\" onclick=\"convertToInteractive('df-dfd476ae-73ed-4125-b00a-7d3c823d6ed3')\"\n",
              "            title=\"Convert this dataframe to an interactive table.\"\n",
              "            style=\"display:none;\">\n",
              "\n",
              "  <svg xmlns=\"http://www.w3.org/2000/svg\" height=\"24px\" viewBox=\"0 -960 960 960\">\n",
              "    <path d=\"M120-120v-720h720v720H120Zm60-500h600v-160H180v160Zm220 220h160v-160H400v160Zm0 220h160v-160H400v160ZM180-400h160v-160H180v160Zm440 0h160v-160H620v160ZM180-180h160v-160H180v160Zm440 0h160v-160H620v160Z\"/>\n",
              "  </svg>\n",
              "    </button>\n",
              "\n",
              "  <style>\n",
              "    .colab-df-container {\n",
              "      display:flex;\n",
              "      gap: 12px;\n",
              "    }\n",
              "\n",
              "    .colab-df-convert {\n",
              "      background-color: #E8F0FE;\n",
              "      border: none;\n",
              "      border-radius: 50%;\n",
              "      cursor: pointer;\n",
              "      display: none;\n",
              "      fill: #1967D2;\n",
              "      height: 32px;\n",
              "      padding: 0 0 0 0;\n",
              "      width: 32px;\n",
              "    }\n",
              "\n",
              "    .colab-df-convert:hover {\n",
              "      background-color: #E2EBFA;\n",
              "      box-shadow: 0px 1px 2px rgba(60, 64, 67, 0.3), 0px 1px 3px 1px rgba(60, 64, 67, 0.15);\n",
              "      fill: #174EA6;\n",
              "    }\n",
              "\n",
              "    .colab-df-buttons div {\n",
              "      margin-bottom: 4px;\n",
              "    }\n",
              "\n",
              "    [theme=dark] .colab-df-convert {\n",
              "      background-color: #3B4455;\n",
              "      fill: #D2E3FC;\n",
              "    }\n",
              "\n",
              "    [theme=dark] .colab-df-convert:hover {\n",
              "      background-color: #434B5C;\n",
              "      box-shadow: 0px 1px 3px 1px rgba(0, 0, 0, 0.15);\n",
              "      filter: drop-shadow(0px 1px 2px rgba(0, 0, 0, 0.3));\n",
              "      fill: #FFFFFF;\n",
              "    }\n",
              "  </style>\n",
              "\n",
              "    <script>\n",
              "      const buttonEl =\n",
              "        document.querySelector('#df-dfd476ae-73ed-4125-b00a-7d3c823d6ed3 button.colab-df-convert');\n",
              "      buttonEl.style.display =\n",
              "        google.colab.kernel.accessAllowed ? 'block' : 'none';\n",
              "\n",
              "      async function convertToInteractive(key) {\n",
              "        const element = document.querySelector('#df-dfd476ae-73ed-4125-b00a-7d3c823d6ed3');\n",
              "        const dataTable =\n",
              "          await google.colab.kernel.invokeFunction('convertToInteractive',\n",
              "                                                    [key], {});\n",
              "        if (!dataTable) return;\n",
              "\n",
              "        const docLinkHtml = 'Like what you see? Visit the ' +\n",
              "          '<a target=\"_blank\" href=https://colab.research.google.com/notebooks/data_table.ipynb>data table notebook</a>'\n",
              "          + ' to learn more about interactive tables.';\n",
              "        element.innerHTML = '';\n",
              "        dataTable['output_type'] = 'display_data';\n",
              "        await google.colab.output.renderOutput(dataTable, element);\n",
              "        const docLink = document.createElement('div');\n",
              "        docLink.innerHTML = docLinkHtml;\n",
              "        element.appendChild(docLink);\n",
              "      }\n",
              "    </script>\n",
              "  </div>\n",
              "\n",
              "\n",
              "<div id=\"df-510d787a-2e50-4798-bae2-41658c8c399a\">\n",
              "  <button class=\"colab-df-quickchart\" onclick=\"quickchart('df-510d787a-2e50-4798-bae2-41658c8c399a')\"\n",
              "            title=\"Suggest charts.\"\n",
              "            style=\"display:none;\">\n",
              "\n",
              "<svg xmlns=\"http://www.w3.org/2000/svg\" height=\"24px\"viewBox=\"0 0 24 24\"\n",
              "     width=\"24px\">\n",
              "    <g>\n",
              "        <path d=\"M19 3H5c-1.1 0-2 .9-2 2v14c0 1.1.9 2 2 2h14c1.1 0 2-.9 2-2V5c0-1.1-.9-2-2-2zM9 17H7v-7h2v7zm4 0h-2V7h2v10zm4 0h-2v-4h2v4z\"/>\n",
              "    </g>\n",
              "</svg>\n",
              "  </button>\n",
              "\n",
              "<style>\n",
              "  .colab-df-quickchart {\n",
              "    background-color: #E8F0FE;\n",
              "    border: none;\n",
              "    border-radius: 50%;\n",
              "    cursor: pointer;\n",
              "    display: none;\n",
              "    fill: #1967D2;\n",
              "    height: 32px;\n",
              "    padding: 0 0 0 0;\n",
              "    width: 32px;\n",
              "  }\n",
              "\n",
              "  .colab-df-quickchart:hover {\n",
              "    background-color: #E2EBFA;\n",
              "    box-shadow: 0px 1px 2px rgba(60, 64, 67, 0.3), 0px 1px 3px 1px rgba(60, 64, 67, 0.15);\n",
              "    fill: #174EA6;\n",
              "  }\n",
              "\n",
              "  [theme=dark] .colab-df-quickchart {\n",
              "    background-color: #3B4455;\n",
              "    fill: #D2E3FC;\n",
              "  }\n",
              "\n",
              "  [theme=dark] .colab-df-quickchart:hover {\n",
              "    background-color: #434B5C;\n",
              "    box-shadow: 0px 1px 3px 1px rgba(0, 0, 0, 0.15);\n",
              "    filter: drop-shadow(0px 1px 2px rgba(0, 0, 0, 0.3));\n",
              "    fill: #FFFFFF;\n",
              "  }\n",
              "</style>\n",
              "\n",
              "  <script>\n",
              "    async function quickchart(key) {\n",
              "      const charts = await google.colab.kernel.invokeFunction(\n",
              "          'suggestCharts', [key], {});\n",
              "    }\n",
              "    (() => {\n",
              "      let quickchartButtonEl =\n",
              "        document.querySelector('#df-510d787a-2e50-4798-bae2-41658c8c399a button');\n",
              "      quickchartButtonEl.style.display =\n",
              "        google.colab.kernel.accessAllowed ? 'block' : 'none';\n",
              "    })();\n",
              "  </script>\n",
              "</div>\n",
              "    </div>\n",
              "  </div>\n"
            ]
          },
          "metadata": {},
          "execution_count": 36
        }
      ]
    },
    {
      "cell_type": "code",
      "source": [
        "df_pred.dtypes"
      ],
      "metadata": {
        "colab": {
          "base_uri": "https://localhost:8080/"
        },
        "id": "DbaSlSi1llSy",
        "outputId": "e78cbaf6-24d1-4a4a-ecd9-8c7f7dd3042f"
      },
      "execution_count": 37,
      "outputs": [
        {
          "output_type": "execute_result",
          "data": {
            "text/plain": [
              "Date         datetime64[ns]\n",
              "Actual              float64\n",
              "Predicted           float64\n",
              "dtype: object"
            ]
          },
          "metadata": {},
          "execution_count": 37
        }
      ]
    },
    {
      "cell_type": "code",
      "source": [
        "# Sorting the df_pred dataframe according to 'Date'\n",
        "df_pred_sorted = df_pred.sort_values('Date')\n",
        "df_pred_sorted"
      ],
      "metadata": {
        "colab": {
          "base_uri": "https://localhost:8080/",
          "height": 423
        },
        "id": "9rfnM8ihlnSC",
        "outputId": "117cdf83-b6b8-4d6d-b34b-9c0337cc96a1"
      },
      "execution_count": 38,
      "outputs": [
        {
          "output_type": "execute_result",
          "data": {
            "text/plain": [
              "          Date   Actual    Predicted\n",
              "102 2007-10-17   320.13     3.465241\n",
              "675 2007-10-19   325.70     3.986972\n",
              "444 2007-10-23   338.25     5.030434\n",
              "83  2007-10-25   337.64     5.552165\n",
              "293 2007-11-02   363.19     7.639088\n",
              "..         ...      ...          ...\n",
              "636 2020-07-30  1487.95  1221.706780\n",
              "565 2020-08-04  1479.09  1223.011107\n",
              "522 2020-08-05  1504.95  1223.271973\n",
              "103 2020-08-06  1498.37  1223.532838\n",
              "570 2020-08-07  1496.82  1223.793704\n",
              "\n",
              "[969 rows x 3 columns]"
            ],
            "text/html": [
              "\n",
              "  <div id=\"df-7b053985-cfc1-451c-b51d-569e6fff7248\" class=\"colab-df-container\">\n",
              "    <div>\n",
              "<style scoped>\n",
              "    .dataframe tbody tr th:only-of-type {\n",
              "        vertical-align: middle;\n",
              "    }\n",
              "\n",
              "    .dataframe tbody tr th {\n",
              "        vertical-align: top;\n",
              "    }\n",
              "\n",
              "    .dataframe thead th {\n",
              "        text-align: right;\n",
              "    }\n",
              "</style>\n",
              "<table border=\"1\" class=\"dataframe\">\n",
              "  <thead>\n",
              "    <tr style=\"text-align: right;\">\n",
              "      <th></th>\n",
              "      <th>Date</th>\n",
              "      <th>Actual</th>\n",
              "      <th>Predicted</th>\n",
              "    </tr>\n",
              "  </thead>\n",
              "  <tbody>\n",
              "    <tr>\n",
              "      <th>102</th>\n",
              "      <td>2007-10-17</td>\n",
              "      <td>320.13</td>\n",
              "      <td>3.465241</td>\n",
              "    </tr>\n",
              "    <tr>\n",
              "      <th>675</th>\n",
              "      <td>2007-10-19</td>\n",
              "      <td>325.70</td>\n",
              "      <td>3.986972</td>\n",
              "    </tr>\n",
              "    <tr>\n",
              "      <th>444</th>\n",
              "      <td>2007-10-23</td>\n",
              "      <td>338.25</td>\n",
              "      <td>5.030434</td>\n",
              "    </tr>\n",
              "    <tr>\n",
              "      <th>83</th>\n",
              "      <td>2007-10-25</td>\n",
              "      <td>337.64</td>\n",
              "      <td>5.552165</td>\n",
              "    </tr>\n",
              "    <tr>\n",
              "      <th>293</th>\n",
              "      <td>2007-11-02</td>\n",
              "      <td>363.19</td>\n",
              "      <td>7.639088</td>\n",
              "    </tr>\n",
              "    <tr>\n",
              "      <th>...</th>\n",
              "      <td>...</td>\n",
              "      <td>...</td>\n",
              "      <td>...</td>\n",
              "    </tr>\n",
              "    <tr>\n",
              "      <th>636</th>\n",
              "      <td>2020-07-30</td>\n",
              "      <td>1487.95</td>\n",
              "      <td>1221.706780</td>\n",
              "    </tr>\n",
              "    <tr>\n",
              "      <th>565</th>\n",
              "      <td>2020-08-04</td>\n",
              "      <td>1479.09</td>\n",
              "      <td>1223.011107</td>\n",
              "    </tr>\n",
              "    <tr>\n",
              "      <th>522</th>\n",
              "      <td>2020-08-05</td>\n",
              "      <td>1504.95</td>\n",
              "      <td>1223.271973</td>\n",
              "    </tr>\n",
              "    <tr>\n",
              "      <th>103</th>\n",
              "      <td>2020-08-06</td>\n",
              "      <td>1498.37</td>\n",
              "      <td>1223.532838</td>\n",
              "    </tr>\n",
              "    <tr>\n",
              "      <th>570</th>\n",
              "      <td>2020-08-07</td>\n",
              "      <td>1496.82</td>\n",
              "      <td>1223.793704</td>\n",
              "    </tr>\n",
              "  </tbody>\n",
              "</table>\n",
              "<p>969 rows × 3 columns</p>\n",
              "</div>\n",
              "    <div class=\"colab-df-buttons\">\n",
              "\n",
              "  <div class=\"colab-df-container\">\n",
              "    <button class=\"colab-df-convert\" onclick=\"convertToInteractive('df-7b053985-cfc1-451c-b51d-569e6fff7248')\"\n",
              "            title=\"Convert this dataframe to an interactive table.\"\n",
              "            style=\"display:none;\">\n",
              "\n",
              "  <svg xmlns=\"http://www.w3.org/2000/svg\" height=\"24px\" viewBox=\"0 -960 960 960\">\n",
              "    <path d=\"M120-120v-720h720v720H120Zm60-500h600v-160H180v160Zm220 220h160v-160H400v160Zm0 220h160v-160H400v160ZM180-400h160v-160H180v160Zm440 0h160v-160H620v160ZM180-180h160v-160H180v160Zm440 0h160v-160H620v160Z\"/>\n",
              "  </svg>\n",
              "    </button>\n",
              "\n",
              "  <style>\n",
              "    .colab-df-container {\n",
              "      display:flex;\n",
              "      gap: 12px;\n",
              "    }\n",
              "\n",
              "    .colab-df-convert {\n",
              "      background-color: #E8F0FE;\n",
              "      border: none;\n",
              "      border-radius: 50%;\n",
              "      cursor: pointer;\n",
              "      display: none;\n",
              "      fill: #1967D2;\n",
              "      height: 32px;\n",
              "      padding: 0 0 0 0;\n",
              "      width: 32px;\n",
              "    }\n",
              "\n",
              "    .colab-df-convert:hover {\n",
              "      background-color: #E2EBFA;\n",
              "      box-shadow: 0px 1px 2px rgba(60, 64, 67, 0.3), 0px 1px 3px 1px rgba(60, 64, 67, 0.15);\n",
              "      fill: #174EA6;\n",
              "    }\n",
              "\n",
              "    .colab-df-buttons div {\n",
              "      margin-bottom: 4px;\n",
              "    }\n",
              "\n",
              "    [theme=dark] .colab-df-convert {\n",
              "      background-color: #3B4455;\n",
              "      fill: #D2E3FC;\n",
              "    }\n",
              "\n",
              "    [theme=dark] .colab-df-convert:hover {\n",
              "      background-color: #434B5C;\n",
              "      box-shadow: 0px 1px 3px 1px rgba(0, 0, 0, 0.15);\n",
              "      filter: drop-shadow(0px 1px 2px rgba(0, 0, 0, 0.3));\n",
              "      fill: #FFFFFF;\n",
              "    }\n",
              "  </style>\n",
              "\n",
              "    <script>\n",
              "      const buttonEl =\n",
              "        document.querySelector('#df-7b053985-cfc1-451c-b51d-569e6fff7248 button.colab-df-convert');\n",
              "      buttonEl.style.display =\n",
              "        google.colab.kernel.accessAllowed ? 'block' : 'none';\n",
              "\n",
              "      async function convertToInteractive(key) {\n",
              "        const element = document.querySelector('#df-7b053985-cfc1-451c-b51d-569e6fff7248');\n",
              "        const dataTable =\n",
              "          await google.colab.kernel.invokeFunction('convertToInteractive',\n",
              "                                                    [key], {});\n",
              "        if (!dataTable) return;\n",
              "\n",
              "        const docLinkHtml = 'Like what you see? Visit the ' +\n",
              "          '<a target=\"_blank\" href=https://colab.research.google.com/notebooks/data_table.ipynb>data table notebook</a>'\n",
              "          + ' to learn more about interactive tables.';\n",
              "        element.innerHTML = '';\n",
              "        dataTable['output_type'] = 'display_data';\n",
              "        await google.colab.output.renderOutput(dataTable, element);\n",
              "        const docLink = document.createElement('div');\n",
              "        docLink.innerHTML = docLinkHtml;\n",
              "        element.appendChild(docLink);\n",
              "      }\n",
              "    </script>\n",
              "  </div>\n",
              "\n",
              "\n",
              "<div id=\"df-bd9154d2-4106-4081-81c5-4dda4da71fca\">\n",
              "  <button class=\"colab-df-quickchart\" onclick=\"quickchart('df-bd9154d2-4106-4081-81c5-4dda4da71fca')\"\n",
              "            title=\"Suggest charts.\"\n",
              "            style=\"display:none;\">\n",
              "\n",
              "<svg xmlns=\"http://www.w3.org/2000/svg\" height=\"24px\"viewBox=\"0 0 24 24\"\n",
              "     width=\"24px\">\n",
              "    <g>\n",
              "        <path d=\"M19 3H5c-1.1 0-2 .9-2 2v14c0 1.1.9 2 2 2h14c1.1 0 2-.9 2-2V5c0-1.1-.9-2-2-2zM9 17H7v-7h2v7zm4 0h-2V7h2v10zm4 0h-2v-4h2v4z\"/>\n",
              "    </g>\n",
              "</svg>\n",
              "  </button>\n",
              "\n",
              "<style>\n",
              "  .colab-df-quickchart {\n",
              "    background-color: #E8F0FE;\n",
              "    border: none;\n",
              "    border-radius: 50%;\n",
              "    cursor: pointer;\n",
              "    display: none;\n",
              "    fill: #1967D2;\n",
              "    height: 32px;\n",
              "    padding: 0 0 0 0;\n",
              "    width: 32px;\n",
              "  }\n",
              "\n",
              "  .colab-df-quickchart:hover {\n",
              "    background-color: #E2EBFA;\n",
              "    box-shadow: 0px 1px 2px rgba(60, 64, 67, 0.3), 0px 1px 3px 1px rgba(60, 64, 67, 0.15);\n",
              "    fill: #174EA6;\n",
              "  }\n",
              "\n",
              "  [theme=dark] .colab-df-quickchart {\n",
              "    background-color: #3B4455;\n",
              "    fill: #D2E3FC;\n",
              "  }\n",
              "\n",
              "  [theme=dark] .colab-df-quickchart:hover {\n",
              "    background-color: #434B5C;\n",
              "    box-shadow: 0px 1px 3px 1px rgba(0, 0, 0, 0.15);\n",
              "    filter: drop-shadow(0px 1px 2px rgba(0, 0, 0, 0.3));\n",
              "    fill: #FFFFFF;\n",
              "  }\n",
              "</style>\n",
              "\n",
              "  <script>\n",
              "    async function quickchart(key) {\n",
              "      const charts = await google.colab.kernel.invokeFunction(\n",
              "          'suggestCharts', [key], {});\n",
              "    }\n",
              "    (() => {\n",
              "      let quickchartButtonEl =\n",
              "        document.querySelector('#df-bd9154d2-4106-4081-81c5-4dda4da71fca button');\n",
              "      quickchartButtonEl.style.display =\n",
              "        google.colab.kernel.accessAllowed ? 'block' : 'none';\n",
              "    })();\n",
              "  </script>\n",
              "</div>\n",
              "    </div>\n",
              "  </div>\n"
            ]
          },
          "metadata": {},
          "execution_count": 38
        }
      ]
    },
    {
      "cell_type": "markdown",
      "source": [
        "**PLOT PREDICTED vs ACTUAL PRICE ON TIME SERIES PLOT FOR GOOGLE**"
      ],
      "metadata": {
        "id": "f6sIklE9pjC2"
      }
    },
    {
      "cell_type": "code",
      "source": [
        "# Plot the actual and predicted stock prices\n",
        "plt.figure(figsize=(12, 6))\n",
        "plt.plot(df_pred_sorted['Date'], df_pred_sorted['Actual'], label='Actual')\n",
        "plt.plot(df_pred_sorted['Date'], df_pred_sorted['Predicted'], label='Predicted')\n",
        "plt.title('Actual vs Predicted Stock Prices - GOOGLE')\n",
        "plt.xlabel('Date')\n",
        "plt.ylabel('CLosing Price')\n",
        "plt.legend(['Actual', 'Predicted'])\n",
        "plt.show()"
      ],
      "metadata": {
        "colab": {
          "base_uri": "https://localhost:8080/",
          "height": 564
        },
        "id": "5N3Cj8s0lp1N",
        "outputId": "b251d642-6a97-46eb-c5d5-bf145f149841"
      },
      "execution_count": 39,
      "outputs": [
        {
          "output_type": "display_data",
          "data": {
            "text/plain": [
              "<Figure size 1200x600 with 1 Axes>"
            ],
            "image/png": "[encoded data removed]"
          },
          "metadata": {}
        }
      ]
    },
    {
      "cell_type": "markdown",
      "source": [
        "**MODEL EVALUATION**"
      ],
      "metadata": {
        "id": "c0C-qgmXpnQm"
      }
    },
    {
      "cell_type": "code",
      "source": [
        "# Calculating theMAE and MSE for the Model\n",
        "print(mean_absolute_error(y_test,y_pred))\n",
        "print(mean_squared_error(y_test,y_pred))\n",
        "np.sqrt(mean_squared_error(y_test,y_pred))"
      ],
      "metadata": {
        "colab": {
          "base_uri": "https://localhost:8080/"
        },
        "id": "P_J3uczhluB1",
        "outputId": "41bb3e27-3e17-4023-de66-24482b9a3b9c"
      },
      "execution_count": 40,
      "outputs": [
        {
          "output_type": "stream",
          "name": "stdout",
          "text": [
            "98.31979910755095\n",
            "14544.157822462035\n"
          ]
        },
        {
          "output_type": "execute_result",
          "data": {
            "text/plain": [
              "120.5991617817555"
            ]
          },
          "metadata": {},
          "execution_count": 40
        }
      ]
    },
    {
      "cell_type": "markdown",
      "source": [
        "DECICISION TREE REGRESSION"
      ],
      "metadata": {
        "id": "c8Ri4FXWprlx"
      }
    },
    {
      "cell_type": "code",
      "source": [
        "from sklearn.model_selection import cross_val_score\n",
        "\n",
        "from sklearn.tree import DecisionTreeRegressor\n",
        "tree_reg = DecisionTreeRegressor()\n",
        "tree_reg.fit(X_train, y_train)"
      ],
      "metadata": {
        "colab": {
          "base_uri": "https://localhost:8080/",
          "height": 74
        },
        "id": "vSNfqx_Gl2SO",
        "outputId": "a987ca57-8cef-416f-9567-b2619299239b"
      },
      "execution_count": 41,
      "outputs": [
        {
          "output_type": "execute_result",
          "data": {
            "text/plain": [
              "DecisionTreeRegressor()"
            ],
            "text/html": [
              "<style>#sk-container-id-3 {color: black;background-color: white;}#sk-container-id-3 pre{padding: 0;}#sk-container-id-3 div.sk-toggleable {background-color: white;}#sk-container-id-3 label.sk-toggleable__label {cursor: pointer;display: block;width: 100%;margin-bottom: 0;padding: 0.3em;box-sizing: border-box;text-align: center;}#sk-container-id-3 label.sk-toggleable__label-arrow:before {content: \"▸\";float: left;margin-right: 0.25em;color: #696969;}#sk-container-id-3 label.sk-toggleable__label-arrow:hover:before {color: black;}#sk-container-id-3 div.sk-estimator:hover label.sk-toggleable__label-arrow:before {color: black;}#sk-container-id-3 div.sk-toggleable__content {max-height: 0;max-width: 0;overflow: hidden;text-align: left;background-color: #f0f8ff;}#sk-container-id-3 div.sk-toggleable__content pre {margin: 0.2em;color: black;border-radius: 0.25em;background-color: #f0f8ff;}#sk-container-id-3 input.sk-toggleable__control:checked~div.sk-toggleable__content {max-height: 200px;max-width: 100%;overflow: auto;}#sk-container-id-3 input.sk-toggleable__control:checked~label.sk-toggleable__label-arrow:before {content: \"▾\";}#sk-container-id-3 div.sk-estimator input.sk-toggleable__control:checked~label.sk-toggleable__label {background-color: #d4ebff;}#sk-container-id-3 div.sk-label input.sk-toggleable__control:checked~label.sk-toggleable__label {background-color: #d4ebff;}#sk-container-id-3 input.sk-hidden--visually {border: 0;clip: rect(1px 1px 1px 1px);clip: rect(1px, 1px, 1px, 1px);height: 1px;margin: -1px;overflow: hidden;padding: 0;position: absolute;width: 1px;}#sk-container-id-3 div.sk-estimator {font-family: monospace;background-color: #f0f8ff;border: 1px dotted black;border-radius: 0.25em;box-sizing: border-box;margin-bottom: 0.5em;}#sk-container-id-3 div.sk-estimator:hover {background-color: #d4ebff;}#sk-container-id-3 div.sk-parallel-item::after {content: \"\";width: 100%;border-bottom: 1px solid gray;flex-grow: 1;}#sk-container-id-3 div.sk-label:hover label.sk-toggleable__label {background-color: #d4ebff;}#sk-container-id-3 div.sk-serial::before {content: \"\";position: absolute;border-left: 1px solid gray;box-sizing: border-box;top: 0;bottom: 0;left: 50%;z-index: 0;}#sk-container-id-3 div.sk-serial {display: flex;flex-direction: column;align-items: center;background-color: white;padding-right: 0.2em;padding-left: 0.2em;position: relative;}#sk-container-id-3 div.sk-item {position: relative;z-index: 1;}#sk-container-id-3 div.sk-parallel {display: flex;align-items: stretch;justify-content: center;background-color: white;position: relative;}#sk-container-id-3 div.sk-item::before, #sk-container-id-3 div.sk-parallel-item::before {content: \"\";position: absolute;border-left: 1px solid gray;box-sizing: border-box;top: 0;bottom: 0;left: 50%;z-index: -1;}#sk-container-id-3 div.sk-parallel-item {display: flex;flex-direction: column;z-index: 1;position: relative;background-color: white;}#sk-container-id-3 div.sk-parallel-item:first-child::after {align-self: flex-end;width: 50%;}#sk-container-id-3 div.sk-parallel-item:last-child::after {align-self: flex-start;width: 50%;}#sk-container-id-3 div.sk-parallel-item:only-child::after {width: 0;}#sk-container-id-3 div.sk-dashed-wrapped {border: 1px dashed gray;margin: 0 0.4em 0.5em 0.4em;box-sizing: border-box;padding-bottom: 0.4em;background-color: white;}#sk-container-id-3 div.sk-label label {font-family: monospace;font-weight: bold;display: inline-block;line-height: 1.2em;}#sk-container-id-3 div.sk-label-container {text-align: center;}#sk-container-id-3 div.sk-container {/* jupyter's `normalize.less` sets `[hidden] { display: none; }` but bootstrap.min.css set `[hidden] { display: none !important; }` so we also need the `!important` here to be able to override the default hidden behavior on the sphinx rendered scikit-learn.org. See: https://github.com/scikit-learn/scikit-learn/issues/21755 */display: inline-block !important;position: relative;}#sk-container-id-3 div.sk-text-repr-fallback {display: none;}</style><div id=\"sk-container-id-3\" class=\"sk-top-container\"><div class=\"sk-text-repr-fallback\"><pre>DecisionTreeRegressor()</pre><b>In a Jupyter environment, please rerun this cell to show the HTML representation or trust the notebook. <br />On GitHub, the HTML representation is unable to render, please try loading this page with nbviewer.org.</b></div><div class=\"sk-container\" hidden><div class=\"sk-item\"><div class=\"sk-estimator sk-toggleable\"><input class=\"sk-toggleable__control sk-hidden--visually\" id=\"sk-estimator-id-3\" type=\"checkbox\" checked><label for=\"sk-estimator-id-3\" class=\"sk-toggleable__label sk-toggleable__label-arrow\">DecisionTreeRegressor</label><div class=\"sk-toggleable__content\"><pre>DecisionTreeRegressor()</pre></div></div></div></div></div>"
            ]
          },
          "metadata": {},
          "execution_count": 41
        }
      ]
    },
    {
      "cell_type": "code",
      "source": [
        "y_pred_tree = tree_reg.predict(X_test)"
      ],
      "metadata": {
        "id": "58-LyDy0mFAP"
      },
      "execution_count": 42,
      "outputs": []
    },
    {
      "cell_type": "code",
      "source": [
        "mean_squared_error(y_test, y_pred_tree)"
      ],
      "metadata": {
        "colab": {
          "base_uri": "https://localhost:8080/"
        },
        "id": "lWj7d4prmJu_",
        "outputId": "cccbb255-536b-4619-9d13-141e9d40feb6"
      },
      "execution_count": 43,
      "outputs": [
        {
          "output_type": "execute_result",
          "data": {
            "text/plain": [
              "163.7476420020639"
            ]
          },
          "metadata": {},
          "execution_count": 43
        }
      ]
    },
    {
      "cell_type": "code",
      "source": [
        "#but this is overfitting model\n",
        "#cv=8 => dividing into 8 folds\n",
        "rmses = np.sqrt(-cross_val_score(tree_reg, X_train, y_train, cv=8, scoring='neg_mean_squared_error'))"
      ],
      "metadata": {
        "id": "QRt0REBjmMJw"
      },
      "execution_count": 44,
      "outputs": []
    },
    {
      "cell_type": "code",
      "source": [
        "#rmse of DecisionTreeRegressor\n",
        "rmses"
      ],
      "metadata": {
        "colab": {
          "base_uri": "https://localhost:8080/"
        },
        "id": "ZVFNWDU4mQDk",
        "outputId": "bb4f3dd8-d221-4062-ad43-addead8e9560"
      },
      "execution_count": 45,
      "outputs": [
        {
          "output_type": "execute_result",
          "data": {
            "text/plain": [
              "array([16.2147937 , 16.56069687, 11.63494696, 13.01799313, 11.06447462,\n",
              "       11.70455664, 11.85903313, 15.88858083])"
            ]
          },
          "metadata": {},
          "execution_count": 45
        }
      ]
    },
    {
      "cell_type": "markdown",
      "source": [
        "**RANDOM FOREST REGRESSOR**"
      ],
      "metadata": {
        "id": "MVhOUel8p3al"
      }
    },
    {
      "cell_type": "code",
      "source": [
        "from sklearn.ensemble import RandomForestRegressor\n",
        "rand_reg = RandomForestRegressor()\n",
        "rmses = np.sqrt(-cross_val_score(rand_reg, X_train, y_train, cv=8, scoring='neg_mean_squared_error'))"
      ],
      "metadata": {
        "id": "5p2RX0LGmTSJ"
      },
      "execution_count": 46,
      "outputs": []
    },
    {
      "cell_type": "code",
      "source": [
        "#rmse of RandomForestRegressor\n",
        "rmses"
      ],
      "metadata": {
        "colab": {
          "base_uri": "https://localhost:8080/"
        },
        "id": "p0GHEkXpmaXZ",
        "outputId": "4e6823d6-7c30-4455-b96f-403ec90a02f6"
      },
      "execution_count": 48,
      "outputs": [
        {
          "output_type": "execute_result",
          "data": {
            "text/plain": [
              "array([15.19817768, 15.91154152, 10.06090556, 12.25064307, 10.08847015,\n",
              "       10.63077718, 10.65481728, 14.73199294])"
            ]
          },
          "metadata": {},
          "execution_count": 48
        }
      ]
    },
    {
      "cell_type": "code",
      "source": [
        "rand_reg.fit(X_train, y_train)\n",
        "y_pred_rf = rand_reg.predict(X_test)\n",
        "mean_squared_error(y_test, y_pred_rf)"
      ],
      "metadata": {
        "colab": {
          "base_uri": "https://localhost:8080/"
        },
        "id": "KZFkdyJFmfea",
        "outputId": "1443e0c6-7c72-40c4-d65a-eabc171df8c0"
      },
      "execution_count": 49,
      "outputs": [
        {
          "output_type": "execute_result",
          "data": {
            "text/plain": [
              "116.2962404772029"
            ]
          },
          "metadata": {},
          "execution_count": 49
        }
      ]
    },
    {
      "cell_type": "markdown",
      "source": [
        "The minimum value of Root Mean Squared Error is obtained by using the RandomForestRegressor model."
      ],
      "metadata": {
        "id": "AM5m_dpwp9Jq"
      }
    },
    {
      "cell_type": "code",
      "source": [],
      "metadata": {
        "id": "xdbZ2y-wmjki"
      },
      "execution_count": null,
      "outputs": []
    }
  ]
}
